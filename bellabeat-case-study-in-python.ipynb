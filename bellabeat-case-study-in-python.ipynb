{
 "cells": [
  {
   "cell_type": "markdown",
   "id": "c0273969",
   "metadata": {
    "papermill": {
     "duration": 0.080756,
     "end_time": "2022-04-17T07:05:27.290542",
     "exception": false,
     "start_time": "2022-04-17T07:05:27.209786",
     "status": "completed"
    },
    "tags": []
   },
   "source": [
    "# **Bellabeat Case Study: How Can a Wellness Technology Company Play It Smart?**\n",
    "\n",
    "### **Introduction**\n",
    "In this case study, we will perform real-world tasks of a junior data analyst. We will be working for Bellabeat, a high-tech manufacturer of health-focused products for women. In order to answer the key business questions, we will follow the steps of the data analysis process: ask, prepare, process, analyze, share, and act.\n",
    "\n",
    "### **About the company**\n",
    "Bellabeat, a high-tech manufacturer of health-focused products for women. Bellabeat is a successful small company, but they have the potential to become a larger player in the global smart device market. Urška Sršen, cofounder and Chief Creative Officer of Bellabeat, believes that analyzing smart device fitness data could help unlock new growth opportunities for the company. The company also offers a range of different products focused on health of users.\n",
    "\n",
    "* Bellabeat app: The Bellabeat app provides users with health data related to their activity, sleep, stress, menstrual cycle, and mindfulness habits. This data can help users better understand their current habits and make healthy decisions. The Bellabeat app connects to their line of smart wellness products.\n",
    "* Leaf: Bellabeat’s classic wellness tracker can be worn as a bracelet, necklace, or clip. The Leaf tracker connects to the Bellabeat app to track activity, sleep, and stress.\n",
    "* Time: This wellness watch combines the timeless look of a classic timepiece with smart technology to track user activity, sleep, and stress. The Time watch connects to the Bellabeat app to provide you with insights into your daily wellness.\n",
    "* Spring: This is a water bottle that tracks daily water intake using smart technology to ensure that you are appropriately hydrated throughout the day. The Spring bottle connects to the Bellabeat app to track your hydration levels.\n",
    "\n",
    "### **Buisness Task**\n",
    "Analyze smart device data to gain insight into how consumers are using their smart devices and guide them to discover marketing strategy for the company. We will present our analysis to the Bellabeat executive team along with your high-level recommendations for Bellabeat’s marketing strategy.\n",
    "\n",
    "### **About the data**\n",
    "We will be using [Fitbit Fitness Tracker Darta](https://www.kaggle.com/arashnic/fitbit) dataset made available by [Möbius](https://www.kaggle.com/arashnic). This dataset contains personal fitness tracker from thirty fitbit users. Thirty eligible Fitbit users consented to the submission of personal tracker data, including minute-level output for physical activity, heart rate, and sleep monitoring. It includes information about daily activity, steps, and heart rate that can be used to explore users’ habits.\n",
    "\n",
    "### **Loading the libraries**\n"
   ]
  },
  {
   "cell_type": "code",
   "execution_count": 1,
   "id": "a0f71326",
   "metadata": {
    "execution": {
     "iopub.execute_input": "2022-04-17T07:05:27.447794Z",
     "iopub.status.busy": "2022-04-17T07:05:27.446580Z",
     "iopub.status.idle": "2022-04-17T07:05:28.466642Z",
     "shell.execute_reply": "2022-04-17T07:05:28.465801Z",
     "shell.execute_reply.started": "2022-04-17T07:03:45.358050Z"
    },
    "papermill": {
     "duration": 1.099838,
     "end_time": "2022-04-17T07:05:28.466800",
     "exception": false,
     "start_time": "2022-04-17T07:05:27.366962",
     "status": "completed"
    },
    "tags": []
   },
   "outputs": [],
   "source": [
    "import pandas as pd\n",
    "import matplotlib.pyplot as plt\n",
    "import numpy as np\n",
    "import seaborn as sns\n"
   ]
  },
  {
   "cell_type": "markdown",
   "id": "2e488b8c",
   "metadata": {
    "papermill": {
     "duration": 0.076075,
     "end_time": "2022-04-17T07:05:28.619502",
     "exception": false,
     "start_time": "2022-04-17T07:05:28.543427",
     "status": "completed"
    },
    "tags": []
   },
   "source": [
    "### **Read the data**"
   ]
  },
  {
   "cell_type": "code",
   "execution_count": 2,
   "id": "db873b6c",
   "metadata": {
    "execution": {
     "iopub.execute_input": "2022-04-17T07:05:28.778993Z",
     "iopub.status.busy": "2022-04-17T07:05:28.778362Z",
     "iopub.status.idle": "2022-04-17T07:05:28.919606Z",
     "shell.execute_reply": "2022-04-17T07:05:28.920106Z",
     "shell.execute_reply.started": "2022-04-17T07:03:45.479405Z"
    },
    "papermill": {
     "duration": 0.224158,
     "end_time": "2022-04-17T07:05:28.920289",
     "exception": false,
     "start_time": "2022-04-17T07:05:28.696131",
     "status": "completed"
    },
    "tags": []
   },
   "outputs": [],
   "source": [
    "daily_activities = pd.read_csv(\"../input/fitbit/Fitabase Data 4.12.16-5.12.16/dailyActivity_merged.csv\")\n",
    "sleep_day = pd.read_csv(\"../input/fitbit/Fitabase Data 4.12.16-5.12.16/sleepDay_merged.csv\")\n",
    "weight_log = pd.read_csv(\"../input/fitbit/Fitabase Data 4.12.16-5.12.16/weightLogInfo_merged.csv\")\n",
    "hourly_intensities = pd.read_csv(\"../input/fitbit/Fitabase Data 4.12.16-5.12.16/hourlyIntensities_merged.csv\")\n",
    "hourly_calories = pd.read_csv(\"../input/fitbit/Fitabase Data 4.12.16-5.12.16/hourlyCalories_merged.csv\")\n",
    "hourly_steps = pd.read_csv(\"../input/fitbit/Fitabase Data 4.12.16-5.12.16/hourlySteps_merged.csv\")\n",
    "\n"
   ]
  },
  {
   "cell_type": "markdown",
   "id": "07b7e2c9",
   "metadata": {
    "papermill": {
     "duration": 0.076823,
     "end_time": "2022-04-17T07:05:29.075673",
     "exception": false,
     "start_time": "2022-04-17T07:05:28.998850",
     "status": "completed"
    },
    "tags": []
   },
   "source": [
    "### **Overview of the data**\n",
    "We will just have a overview of the dataframes with the help of head function.\n"
   ]
  },
  {
   "cell_type": "code",
   "execution_count": 3,
   "id": "47757619",
   "metadata": {
    "execution": {
     "iopub.execute_input": "2022-04-17T07:05:29.234407Z",
     "iopub.status.busy": "2022-04-17T07:05:29.233522Z",
     "iopub.status.idle": "2022-04-17T07:05:29.260821Z",
     "shell.execute_reply": "2022-04-17T07:05:29.261344Z",
     "shell.execute_reply.started": "2022-04-17T07:03:45.597905Z"
    },
    "papermill": {
     "duration": 0.108838,
     "end_time": "2022-04-17T07:05:29.261509",
     "exception": false,
     "start_time": "2022-04-17T07:05:29.152671",
     "status": "completed"
    },
    "tags": []
   },
   "outputs": [
    {
     "data": {
      "text/html": [
       "<div>\n",
       "<style scoped>\n",
       "    .dataframe tbody tr th:only-of-type {\n",
       "        vertical-align: middle;\n",
       "    }\n",
       "\n",
       "    .dataframe tbody tr th {\n",
       "        vertical-align: top;\n",
       "    }\n",
       "\n",
       "    .dataframe thead th {\n",
       "        text-align: right;\n",
       "    }\n",
       "</style>\n",
       "<table border=\"1\" class=\"dataframe\">\n",
       "  <thead>\n",
       "    <tr style=\"text-align: right;\">\n",
       "      <th></th>\n",
       "      <th>Id</th>\n",
       "      <th>ActivityDate</th>\n",
       "      <th>TotalSteps</th>\n",
       "      <th>TotalDistance</th>\n",
       "      <th>TrackerDistance</th>\n",
       "      <th>LoggedActivitiesDistance</th>\n",
       "      <th>VeryActiveDistance</th>\n",
       "      <th>ModeratelyActiveDistance</th>\n",
       "      <th>LightActiveDistance</th>\n",
       "      <th>SedentaryActiveDistance</th>\n",
       "      <th>VeryActiveMinutes</th>\n",
       "      <th>FairlyActiveMinutes</th>\n",
       "      <th>LightlyActiveMinutes</th>\n",
       "      <th>SedentaryMinutes</th>\n",
       "      <th>Calories</th>\n",
       "    </tr>\n",
       "  </thead>\n",
       "  <tbody>\n",
       "    <tr>\n",
       "      <th>0</th>\n",
       "      <td>1503960366</td>\n",
       "      <td>4/12/2016</td>\n",
       "      <td>13162</td>\n",
       "      <td>8.50</td>\n",
       "      <td>8.50</td>\n",
       "      <td>0.0</td>\n",
       "      <td>1.88</td>\n",
       "      <td>0.55</td>\n",
       "      <td>6.06</td>\n",
       "      <td>0.0</td>\n",
       "      <td>25</td>\n",
       "      <td>13</td>\n",
       "      <td>328</td>\n",
       "      <td>728</td>\n",
       "      <td>1985</td>\n",
       "    </tr>\n",
       "    <tr>\n",
       "      <th>1</th>\n",
       "      <td>1503960366</td>\n",
       "      <td>4/13/2016</td>\n",
       "      <td>10735</td>\n",
       "      <td>6.97</td>\n",
       "      <td>6.97</td>\n",
       "      <td>0.0</td>\n",
       "      <td>1.57</td>\n",
       "      <td>0.69</td>\n",
       "      <td>4.71</td>\n",
       "      <td>0.0</td>\n",
       "      <td>21</td>\n",
       "      <td>19</td>\n",
       "      <td>217</td>\n",
       "      <td>776</td>\n",
       "      <td>1797</td>\n",
       "    </tr>\n",
       "    <tr>\n",
       "      <th>2</th>\n",
       "      <td>1503960366</td>\n",
       "      <td>4/14/2016</td>\n",
       "      <td>10460</td>\n",
       "      <td>6.74</td>\n",
       "      <td>6.74</td>\n",
       "      <td>0.0</td>\n",
       "      <td>2.44</td>\n",
       "      <td>0.40</td>\n",
       "      <td>3.91</td>\n",
       "      <td>0.0</td>\n",
       "      <td>30</td>\n",
       "      <td>11</td>\n",
       "      <td>181</td>\n",
       "      <td>1218</td>\n",
       "      <td>1776</td>\n",
       "    </tr>\n",
       "    <tr>\n",
       "      <th>3</th>\n",
       "      <td>1503960366</td>\n",
       "      <td>4/15/2016</td>\n",
       "      <td>9762</td>\n",
       "      <td>6.28</td>\n",
       "      <td>6.28</td>\n",
       "      <td>0.0</td>\n",
       "      <td>2.14</td>\n",
       "      <td>1.26</td>\n",
       "      <td>2.83</td>\n",
       "      <td>0.0</td>\n",
       "      <td>29</td>\n",
       "      <td>34</td>\n",
       "      <td>209</td>\n",
       "      <td>726</td>\n",
       "      <td>1745</td>\n",
       "    </tr>\n",
       "    <tr>\n",
       "      <th>4</th>\n",
       "      <td>1503960366</td>\n",
       "      <td>4/16/2016</td>\n",
       "      <td>12669</td>\n",
       "      <td>8.16</td>\n",
       "      <td>8.16</td>\n",
       "      <td>0.0</td>\n",
       "      <td>2.71</td>\n",
       "      <td>0.41</td>\n",
       "      <td>5.04</td>\n",
       "      <td>0.0</td>\n",
       "      <td>36</td>\n",
       "      <td>10</td>\n",
       "      <td>221</td>\n",
       "      <td>773</td>\n",
       "      <td>1863</td>\n",
       "    </tr>\n",
       "  </tbody>\n",
       "</table>\n",
       "</div>"
      ],
      "text/plain": [
       "           Id ActivityDate  TotalSteps  TotalDistance  TrackerDistance  \\\n",
       "0  1503960366    4/12/2016       13162           8.50             8.50   \n",
       "1  1503960366    4/13/2016       10735           6.97             6.97   \n",
       "2  1503960366    4/14/2016       10460           6.74             6.74   \n",
       "3  1503960366    4/15/2016        9762           6.28             6.28   \n",
       "4  1503960366    4/16/2016       12669           8.16             8.16   \n",
       "\n",
       "   LoggedActivitiesDistance  VeryActiveDistance  ModeratelyActiveDistance  \\\n",
       "0                       0.0                1.88                      0.55   \n",
       "1                       0.0                1.57                      0.69   \n",
       "2                       0.0                2.44                      0.40   \n",
       "3                       0.0                2.14                      1.26   \n",
       "4                       0.0                2.71                      0.41   \n",
       "\n",
       "   LightActiveDistance  SedentaryActiveDistance  VeryActiveMinutes  \\\n",
       "0                 6.06                      0.0                 25   \n",
       "1                 4.71                      0.0                 21   \n",
       "2                 3.91                      0.0                 30   \n",
       "3                 2.83                      0.0                 29   \n",
       "4                 5.04                      0.0                 36   \n",
       "\n",
       "   FairlyActiveMinutes  LightlyActiveMinutes  SedentaryMinutes  Calories  \n",
       "0                   13                   328               728      1985  \n",
       "1                   19                   217               776      1797  \n",
       "2                   11                   181              1218      1776  \n",
       "3                   34                   209               726      1745  \n",
       "4                   10                   221               773      1863  "
      ]
     },
     "execution_count": 3,
     "metadata": {},
     "output_type": "execute_result"
    }
   ],
   "source": [
    "daily_activities.head()"
   ]
  },
  {
   "cell_type": "code",
   "execution_count": 4,
   "id": "384a31ff",
   "metadata": {
    "execution": {
     "iopub.execute_input": "2022-04-17T07:05:29.419033Z",
     "iopub.status.busy": "2022-04-17T07:05:29.417941Z",
     "iopub.status.idle": "2022-04-17T07:05:29.427399Z",
     "shell.execute_reply": "2022-04-17T07:05:29.427998Z",
     "shell.execute_reply.started": "2022-04-17T07:03:45.688285Z"
    },
    "papermill": {
     "duration": 0.089497,
     "end_time": "2022-04-17T07:05:29.428166",
     "exception": false,
     "start_time": "2022-04-17T07:05:29.338669",
     "status": "completed"
    },
    "tags": []
   },
   "outputs": [
    {
     "data": {
      "text/html": [
       "<div>\n",
       "<style scoped>\n",
       "    .dataframe tbody tr th:only-of-type {\n",
       "        vertical-align: middle;\n",
       "    }\n",
       "\n",
       "    .dataframe tbody tr th {\n",
       "        vertical-align: top;\n",
       "    }\n",
       "\n",
       "    .dataframe thead th {\n",
       "        text-align: right;\n",
       "    }\n",
       "</style>\n",
       "<table border=\"1\" class=\"dataframe\">\n",
       "  <thead>\n",
       "    <tr style=\"text-align: right;\">\n",
       "      <th></th>\n",
       "      <th>Id</th>\n",
       "      <th>SleepDay</th>\n",
       "      <th>TotalSleepRecords</th>\n",
       "      <th>TotalMinutesAsleep</th>\n",
       "      <th>TotalTimeInBed</th>\n",
       "    </tr>\n",
       "  </thead>\n",
       "  <tbody>\n",
       "    <tr>\n",
       "      <th>0</th>\n",
       "      <td>1503960366</td>\n",
       "      <td>4/12/2016 12:00:00 AM</td>\n",
       "      <td>1</td>\n",
       "      <td>327</td>\n",
       "      <td>346</td>\n",
       "    </tr>\n",
       "    <tr>\n",
       "      <th>1</th>\n",
       "      <td>1503960366</td>\n",
       "      <td>4/13/2016 12:00:00 AM</td>\n",
       "      <td>2</td>\n",
       "      <td>384</td>\n",
       "      <td>407</td>\n",
       "    </tr>\n",
       "    <tr>\n",
       "      <th>2</th>\n",
       "      <td>1503960366</td>\n",
       "      <td>4/15/2016 12:00:00 AM</td>\n",
       "      <td>1</td>\n",
       "      <td>412</td>\n",
       "      <td>442</td>\n",
       "    </tr>\n",
       "    <tr>\n",
       "      <th>3</th>\n",
       "      <td>1503960366</td>\n",
       "      <td>4/16/2016 12:00:00 AM</td>\n",
       "      <td>2</td>\n",
       "      <td>340</td>\n",
       "      <td>367</td>\n",
       "    </tr>\n",
       "    <tr>\n",
       "      <th>4</th>\n",
       "      <td>1503960366</td>\n",
       "      <td>4/17/2016 12:00:00 AM</td>\n",
       "      <td>1</td>\n",
       "      <td>700</td>\n",
       "      <td>712</td>\n",
       "    </tr>\n",
       "  </tbody>\n",
       "</table>\n",
       "</div>"
      ],
      "text/plain": [
       "           Id               SleepDay  TotalSleepRecords  TotalMinutesAsleep  \\\n",
       "0  1503960366  4/12/2016 12:00:00 AM                  1                 327   \n",
       "1  1503960366  4/13/2016 12:00:00 AM                  2                 384   \n",
       "2  1503960366  4/15/2016 12:00:00 AM                  1                 412   \n",
       "3  1503960366  4/16/2016 12:00:00 AM                  2                 340   \n",
       "4  1503960366  4/17/2016 12:00:00 AM                  1                 700   \n",
       "\n",
       "   TotalTimeInBed  \n",
       "0             346  \n",
       "1             407  \n",
       "2             442  \n",
       "3             367  \n",
       "4             712  "
      ]
     },
     "execution_count": 4,
     "metadata": {},
     "output_type": "execute_result"
    }
   ],
   "source": [
    "sleep_day.head()"
   ]
  },
  {
   "cell_type": "code",
   "execution_count": 5,
   "id": "971fbb58",
   "metadata": {
    "execution": {
     "iopub.execute_input": "2022-04-17T07:05:29.591049Z",
     "iopub.status.busy": "2022-04-17T07:05:29.590405Z",
     "iopub.status.idle": "2022-04-17T07:05:29.601716Z",
     "shell.execute_reply": "2022-04-17T07:05:29.601144Z",
     "shell.execute_reply.started": "2022-04-17T07:03:45.787652Z"
    },
    "papermill": {
     "duration": 0.095214,
     "end_time": "2022-04-17T07:05:29.601838",
     "exception": false,
     "start_time": "2022-04-17T07:05:29.506624",
     "status": "completed"
    },
    "tags": []
   },
   "outputs": [
    {
     "data": {
      "text/html": [
       "<div>\n",
       "<style scoped>\n",
       "    .dataframe tbody tr th:only-of-type {\n",
       "        vertical-align: middle;\n",
       "    }\n",
       "\n",
       "    .dataframe tbody tr th {\n",
       "        vertical-align: top;\n",
       "    }\n",
       "\n",
       "    .dataframe thead th {\n",
       "        text-align: right;\n",
       "    }\n",
       "</style>\n",
       "<table border=\"1\" class=\"dataframe\">\n",
       "  <thead>\n",
       "    <tr style=\"text-align: right;\">\n",
       "      <th></th>\n",
       "      <th>Id</th>\n",
       "      <th>Date</th>\n",
       "      <th>WeightKg</th>\n",
       "      <th>WeightPounds</th>\n",
       "      <th>Fat</th>\n",
       "      <th>BMI</th>\n",
       "      <th>IsManualReport</th>\n",
       "      <th>LogId</th>\n",
       "    </tr>\n",
       "  </thead>\n",
       "  <tbody>\n",
       "    <tr>\n",
       "      <th>0</th>\n",
       "      <td>1503960366</td>\n",
       "      <td>5/2/2016 11:59:59 PM</td>\n",
       "      <td>52.599998</td>\n",
       "      <td>115.963147</td>\n",
       "      <td>22.0</td>\n",
       "      <td>22.650000</td>\n",
       "      <td>True</td>\n",
       "      <td>1462233599000</td>\n",
       "    </tr>\n",
       "    <tr>\n",
       "      <th>1</th>\n",
       "      <td>1503960366</td>\n",
       "      <td>5/3/2016 11:59:59 PM</td>\n",
       "      <td>52.599998</td>\n",
       "      <td>115.963147</td>\n",
       "      <td>NaN</td>\n",
       "      <td>22.650000</td>\n",
       "      <td>True</td>\n",
       "      <td>1462319999000</td>\n",
       "    </tr>\n",
       "    <tr>\n",
       "      <th>2</th>\n",
       "      <td>1927972279</td>\n",
       "      <td>4/13/2016 1:08:52 AM</td>\n",
       "      <td>133.500000</td>\n",
       "      <td>294.317120</td>\n",
       "      <td>NaN</td>\n",
       "      <td>47.540001</td>\n",
       "      <td>False</td>\n",
       "      <td>1460509732000</td>\n",
       "    </tr>\n",
       "    <tr>\n",
       "      <th>3</th>\n",
       "      <td>2873212765</td>\n",
       "      <td>4/21/2016 11:59:59 PM</td>\n",
       "      <td>56.700001</td>\n",
       "      <td>125.002104</td>\n",
       "      <td>NaN</td>\n",
       "      <td>21.450001</td>\n",
       "      <td>True</td>\n",
       "      <td>1461283199000</td>\n",
       "    </tr>\n",
       "    <tr>\n",
       "      <th>4</th>\n",
       "      <td>2873212765</td>\n",
       "      <td>5/12/2016 11:59:59 PM</td>\n",
       "      <td>57.299999</td>\n",
       "      <td>126.324875</td>\n",
       "      <td>NaN</td>\n",
       "      <td>21.690001</td>\n",
       "      <td>True</td>\n",
       "      <td>1463097599000</td>\n",
       "    </tr>\n",
       "  </tbody>\n",
       "</table>\n",
       "</div>"
      ],
      "text/plain": [
       "           Id                   Date    WeightKg  WeightPounds   Fat  \\\n",
       "0  1503960366   5/2/2016 11:59:59 PM   52.599998    115.963147  22.0   \n",
       "1  1503960366   5/3/2016 11:59:59 PM   52.599998    115.963147   NaN   \n",
       "2  1927972279   4/13/2016 1:08:52 AM  133.500000    294.317120   NaN   \n",
       "3  2873212765  4/21/2016 11:59:59 PM   56.700001    125.002104   NaN   \n",
       "4  2873212765  5/12/2016 11:59:59 PM   57.299999    126.324875   NaN   \n",
       "\n",
       "         BMI  IsManualReport          LogId  \n",
       "0  22.650000            True  1462233599000  \n",
       "1  22.650000            True  1462319999000  \n",
       "2  47.540001           False  1460509732000  \n",
       "3  21.450001            True  1461283199000  \n",
       "4  21.690001            True  1463097599000  "
      ]
     },
     "execution_count": 5,
     "metadata": {},
     "output_type": "execute_result"
    }
   ],
   "source": [
    "weight_log.head()"
   ]
  },
  {
   "cell_type": "code",
   "execution_count": 6,
   "id": "624f5aaf",
   "metadata": {
    "execution": {
     "iopub.execute_input": "2022-04-17T07:05:29.760790Z",
     "iopub.status.busy": "2022-04-17T07:05:29.760182Z",
     "iopub.status.idle": "2022-04-17T07:05:29.769559Z",
     "shell.execute_reply": "2022-04-17T07:05:29.770118Z",
     "shell.execute_reply.started": "2022-04-17T07:03:45.864614Z"
    },
    "papermill": {
     "duration": 0.090791,
     "end_time": "2022-04-17T07:05:29.770261",
     "exception": false,
     "start_time": "2022-04-17T07:05:29.679470",
     "status": "completed"
    },
    "tags": []
   },
   "outputs": [
    {
     "data": {
      "text/html": [
       "<div>\n",
       "<style scoped>\n",
       "    .dataframe tbody tr th:only-of-type {\n",
       "        vertical-align: middle;\n",
       "    }\n",
       "\n",
       "    .dataframe tbody tr th {\n",
       "        vertical-align: top;\n",
       "    }\n",
       "\n",
       "    .dataframe thead th {\n",
       "        text-align: right;\n",
       "    }\n",
       "</style>\n",
       "<table border=\"1\" class=\"dataframe\">\n",
       "  <thead>\n",
       "    <tr style=\"text-align: right;\">\n",
       "      <th></th>\n",
       "      <th>Id</th>\n",
       "      <th>ActivityHour</th>\n",
       "      <th>TotalIntensity</th>\n",
       "      <th>AverageIntensity</th>\n",
       "    </tr>\n",
       "  </thead>\n",
       "  <tbody>\n",
       "    <tr>\n",
       "      <th>0</th>\n",
       "      <td>1503960366</td>\n",
       "      <td>4/12/2016 12:00:00 AM</td>\n",
       "      <td>20</td>\n",
       "      <td>0.333333</td>\n",
       "    </tr>\n",
       "    <tr>\n",
       "      <th>1</th>\n",
       "      <td>1503960366</td>\n",
       "      <td>4/12/2016 1:00:00 AM</td>\n",
       "      <td>8</td>\n",
       "      <td>0.133333</td>\n",
       "    </tr>\n",
       "    <tr>\n",
       "      <th>2</th>\n",
       "      <td>1503960366</td>\n",
       "      <td>4/12/2016 2:00:00 AM</td>\n",
       "      <td>7</td>\n",
       "      <td>0.116667</td>\n",
       "    </tr>\n",
       "    <tr>\n",
       "      <th>3</th>\n",
       "      <td>1503960366</td>\n",
       "      <td>4/12/2016 3:00:00 AM</td>\n",
       "      <td>0</td>\n",
       "      <td>0.000000</td>\n",
       "    </tr>\n",
       "    <tr>\n",
       "      <th>4</th>\n",
       "      <td>1503960366</td>\n",
       "      <td>4/12/2016 4:00:00 AM</td>\n",
       "      <td>0</td>\n",
       "      <td>0.000000</td>\n",
       "    </tr>\n",
       "  </tbody>\n",
       "</table>\n",
       "</div>"
      ],
      "text/plain": [
       "           Id           ActivityHour  TotalIntensity  AverageIntensity\n",
       "0  1503960366  4/12/2016 12:00:00 AM              20          0.333333\n",
       "1  1503960366   4/12/2016 1:00:00 AM               8          0.133333\n",
       "2  1503960366   4/12/2016 2:00:00 AM               7          0.116667\n",
       "3  1503960366   4/12/2016 3:00:00 AM               0          0.000000\n",
       "4  1503960366   4/12/2016 4:00:00 AM               0          0.000000"
      ]
     },
     "execution_count": 6,
     "metadata": {},
     "output_type": "execute_result"
    }
   ],
   "source": [
    "hourly_intensities.head()"
   ]
  },
  {
   "cell_type": "code",
   "execution_count": 7,
   "id": "0e6c558f",
   "metadata": {
    "execution": {
     "iopub.execute_input": "2022-04-17T07:05:29.930590Z",
     "iopub.status.busy": "2022-04-17T07:05:29.929992Z",
     "iopub.status.idle": "2022-04-17T07:05:29.938987Z",
     "shell.execute_reply": "2022-04-17T07:05:29.939579Z",
     "shell.execute_reply.started": "2022-04-17T07:03:45.957877Z"
    },
    "papermill": {
     "duration": 0.090998,
     "end_time": "2022-04-17T07:05:29.939729",
     "exception": false,
     "start_time": "2022-04-17T07:05:29.848731",
     "status": "completed"
    },
    "tags": []
   },
   "outputs": [
    {
     "data": {
      "text/html": [
       "<div>\n",
       "<style scoped>\n",
       "    .dataframe tbody tr th:only-of-type {\n",
       "        vertical-align: middle;\n",
       "    }\n",
       "\n",
       "    .dataframe tbody tr th {\n",
       "        vertical-align: top;\n",
       "    }\n",
       "\n",
       "    .dataframe thead th {\n",
       "        text-align: right;\n",
       "    }\n",
       "</style>\n",
       "<table border=\"1\" class=\"dataframe\">\n",
       "  <thead>\n",
       "    <tr style=\"text-align: right;\">\n",
       "      <th></th>\n",
       "      <th>Id</th>\n",
       "      <th>ActivityHour</th>\n",
       "      <th>Calories</th>\n",
       "    </tr>\n",
       "  </thead>\n",
       "  <tbody>\n",
       "    <tr>\n",
       "      <th>0</th>\n",
       "      <td>1503960366</td>\n",
       "      <td>4/12/2016 12:00:00 AM</td>\n",
       "      <td>81</td>\n",
       "    </tr>\n",
       "    <tr>\n",
       "      <th>1</th>\n",
       "      <td>1503960366</td>\n",
       "      <td>4/12/2016 1:00:00 AM</td>\n",
       "      <td>61</td>\n",
       "    </tr>\n",
       "    <tr>\n",
       "      <th>2</th>\n",
       "      <td>1503960366</td>\n",
       "      <td>4/12/2016 2:00:00 AM</td>\n",
       "      <td>59</td>\n",
       "    </tr>\n",
       "    <tr>\n",
       "      <th>3</th>\n",
       "      <td>1503960366</td>\n",
       "      <td>4/12/2016 3:00:00 AM</td>\n",
       "      <td>47</td>\n",
       "    </tr>\n",
       "    <tr>\n",
       "      <th>4</th>\n",
       "      <td>1503960366</td>\n",
       "      <td>4/12/2016 4:00:00 AM</td>\n",
       "      <td>48</td>\n",
       "    </tr>\n",
       "  </tbody>\n",
       "</table>\n",
       "</div>"
      ],
      "text/plain": [
       "           Id           ActivityHour  Calories\n",
       "0  1503960366  4/12/2016 12:00:00 AM        81\n",
       "1  1503960366   4/12/2016 1:00:00 AM        61\n",
       "2  1503960366   4/12/2016 2:00:00 AM        59\n",
       "3  1503960366   4/12/2016 3:00:00 AM        47\n",
       "4  1503960366   4/12/2016 4:00:00 AM        48"
      ]
     },
     "execution_count": 7,
     "metadata": {},
     "output_type": "execute_result"
    }
   ],
   "source": [
    "hourly_calories.head()"
   ]
  },
  {
   "cell_type": "code",
   "execution_count": 8,
   "id": "bf6ef640",
   "metadata": {
    "execution": {
     "iopub.execute_input": "2022-04-17T07:05:30.106800Z",
     "iopub.status.busy": "2022-04-17T07:05:30.106186Z",
     "iopub.status.idle": "2022-04-17T07:05:30.108579Z",
     "shell.execute_reply": "2022-04-17T07:05:30.109130Z",
     "shell.execute_reply.started": "2022-04-17T07:03:46.036894Z"
    },
    "papermill": {
     "duration": 0.090169,
     "end_time": "2022-04-17T07:05:30.109259",
     "exception": false,
     "start_time": "2022-04-17T07:05:30.019090",
     "status": "completed"
    },
    "tags": []
   },
   "outputs": [
    {
     "data": {
      "text/html": [
       "<div>\n",
       "<style scoped>\n",
       "    .dataframe tbody tr th:only-of-type {\n",
       "        vertical-align: middle;\n",
       "    }\n",
       "\n",
       "    .dataframe tbody tr th {\n",
       "        vertical-align: top;\n",
       "    }\n",
       "\n",
       "    .dataframe thead th {\n",
       "        text-align: right;\n",
       "    }\n",
       "</style>\n",
       "<table border=\"1\" class=\"dataframe\">\n",
       "  <thead>\n",
       "    <tr style=\"text-align: right;\">\n",
       "      <th></th>\n",
       "      <th>Id</th>\n",
       "      <th>ActivityHour</th>\n",
       "      <th>StepTotal</th>\n",
       "    </tr>\n",
       "  </thead>\n",
       "  <tbody>\n",
       "    <tr>\n",
       "      <th>0</th>\n",
       "      <td>1503960366</td>\n",
       "      <td>4/12/2016 12:00:00 AM</td>\n",
       "      <td>373</td>\n",
       "    </tr>\n",
       "    <tr>\n",
       "      <th>1</th>\n",
       "      <td>1503960366</td>\n",
       "      <td>4/12/2016 1:00:00 AM</td>\n",
       "      <td>160</td>\n",
       "    </tr>\n",
       "    <tr>\n",
       "      <th>2</th>\n",
       "      <td>1503960366</td>\n",
       "      <td>4/12/2016 2:00:00 AM</td>\n",
       "      <td>151</td>\n",
       "    </tr>\n",
       "    <tr>\n",
       "      <th>3</th>\n",
       "      <td>1503960366</td>\n",
       "      <td>4/12/2016 3:00:00 AM</td>\n",
       "      <td>0</td>\n",
       "    </tr>\n",
       "    <tr>\n",
       "      <th>4</th>\n",
       "      <td>1503960366</td>\n",
       "      <td>4/12/2016 4:00:00 AM</td>\n",
       "      <td>0</td>\n",
       "    </tr>\n",
       "  </tbody>\n",
       "</table>\n",
       "</div>"
      ],
      "text/plain": [
       "           Id           ActivityHour  StepTotal\n",
       "0  1503960366  4/12/2016 12:00:00 AM        373\n",
       "1  1503960366   4/12/2016 1:00:00 AM        160\n",
       "2  1503960366   4/12/2016 2:00:00 AM        151\n",
       "3  1503960366   4/12/2016 3:00:00 AM          0\n",
       "4  1503960366   4/12/2016 4:00:00 AM          0"
      ]
     },
     "execution_count": 8,
     "metadata": {},
     "output_type": "execute_result"
    }
   ],
   "source": [
    "hourly_steps.head()"
   ]
  },
  {
   "cell_type": "markdown",
   "id": "da8a4004",
   "metadata": {
    "papermill": {
     "duration": 0.080559,
     "end_time": "2022-04-17T07:05:30.270976",
     "exception": false,
     "start_time": "2022-04-17T07:05:30.190417",
     "status": "completed"
    },
    "tags": []
   },
   "source": [
    "### **Checking the datatypes for each column**\n",
    "We will check if the datatypes of each column are correct or if we need to make any changes."
   ]
  },
  {
   "cell_type": "code",
   "execution_count": 9,
   "id": "26439d27",
   "metadata": {
    "execution": {
     "iopub.execute_input": "2022-04-17T07:05:30.446456Z",
     "iopub.status.busy": "2022-04-17T07:05:30.437791Z",
     "iopub.status.idle": "2022-04-17T07:05:30.452949Z",
     "shell.execute_reply": "2022-04-17T07:05:30.454795Z",
     "shell.execute_reply.started": "2022-04-17T07:03:46.117470Z"
    },
    "papermill": {
     "duration": 0.103758,
     "end_time": "2022-04-17T07:05:30.455430",
     "exception": false,
     "start_time": "2022-04-17T07:05:30.351672",
     "status": "completed"
    },
    "tags": []
   },
   "outputs": [
    {
     "data": {
      "text/plain": [
       "Id                            int64\n",
       "ActivityDate                 object\n",
       "TotalSteps                    int64\n",
       "TotalDistance               float64\n",
       "TrackerDistance             float64\n",
       "LoggedActivitiesDistance    float64\n",
       "VeryActiveDistance          float64\n",
       "ModeratelyActiveDistance    float64\n",
       "LightActiveDistance         float64\n",
       "SedentaryActiveDistance     float64\n",
       "VeryActiveMinutes             int64\n",
       "FairlyActiveMinutes           int64\n",
       "LightlyActiveMinutes          int64\n",
       "SedentaryMinutes              int64\n",
       "Calories                      int64\n",
       "dtype: object"
      ]
     },
     "execution_count": 9,
     "metadata": {},
     "output_type": "execute_result"
    }
   ],
   "source": [
    "daily_activities.dtypes"
   ]
  },
  {
   "cell_type": "code",
   "execution_count": 10,
   "id": "15c70083",
   "metadata": {
    "execution": {
     "iopub.execute_input": "2022-04-17T07:05:30.629837Z",
     "iopub.status.busy": "2022-04-17T07:05:30.629128Z",
     "iopub.status.idle": "2022-04-17T07:05:30.631967Z",
     "shell.execute_reply": "2022-04-17T07:05:30.632524Z",
     "shell.execute_reply.started": "2022-04-17T07:03:46.177178Z"
    },
    "papermill": {
     "duration": 0.092319,
     "end_time": "2022-04-17T07:05:30.632678",
     "exception": false,
     "start_time": "2022-04-17T07:05:30.540359",
     "status": "completed"
    },
    "tags": []
   },
   "outputs": [
    {
     "data": {
      "text/plain": [
       "Id                     int64\n",
       "SleepDay              object\n",
       "TotalSleepRecords      int64\n",
       "TotalMinutesAsleep     int64\n",
       "TotalTimeInBed         int64\n",
       "dtype: object"
      ]
     },
     "execution_count": 10,
     "metadata": {},
     "output_type": "execute_result"
    }
   ],
   "source": [
    "sleep_day.dtypes"
   ]
  },
  {
   "cell_type": "code",
   "execution_count": 11,
   "id": "be53b9ee",
   "metadata": {
    "execution": {
     "iopub.execute_input": "2022-04-17T07:05:30.798847Z",
     "iopub.status.busy": "2022-04-17T07:05:30.798213Z",
     "iopub.status.idle": "2022-04-17T07:05:30.804686Z",
     "shell.execute_reply": "2022-04-17T07:05:30.805157Z",
     "shell.execute_reply.started": "2022-04-17T07:03:46.257397Z"
    },
    "papermill": {
     "duration": 0.091194,
     "end_time": "2022-04-17T07:05:30.805357",
     "exception": false,
     "start_time": "2022-04-17T07:05:30.714163",
     "status": "completed"
    },
    "tags": []
   },
   "outputs": [
    {
     "data": {
      "text/plain": [
       "Id                  int64\n",
       "Date               object\n",
       "WeightKg          float64\n",
       "WeightPounds      float64\n",
       "Fat               float64\n",
       "BMI               float64\n",
       "IsManualReport       bool\n",
       "LogId               int64\n",
       "dtype: object"
      ]
     },
     "execution_count": 11,
     "metadata": {},
     "output_type": "execute_result"
    }
   ],
   "source": [
    "weight_log.dtypes"
   ]
  },
  {
   "cell_type": "code",
   "execution_count": 12,
   "id": "722d6b0e",
   "metadata": {
    "execution": {
     "iopub.execute_input": "2022-04-17T07:05:30.974852Z",
     "iopub.status.busy": "2022-04-17T07:05:30.974220Z",
     "iopub.status.idle": "2022-04-17T07:05:30.979654Z",
     "shell.execute_reply": "2022-04-17T07:05:30.980227Z",
     "shell.execute_reply.started": "2022-04-17T07:03:46.337992Z"
    },
    "papermill": {
     "duration": 0.09258,
     "end_time": "2022-04-17T07:05:30.980413",
     "exception": false,
     "start_time": "2022-04-17T07:05:30.887833",
     "status": "completed"
    },
    "tags": []
   },
   "outputs": [
    {
     "data": {
      "text/plain": [
       "Id                    int64\n",
       "ActivityHour         object\n",
       "TotalIntensity        int64\n",
       "AverageIntensity    float64\n",
       "dtype: object"
      ]
     },
     "execution_count": 12,
     "metadata": {},
     "output_type": "execute_result"
    }
   ],
   "source": [
    "hourly_intensities.dtypes"
   ]
  },
  {
   "cell_type": "code",
   "execution_count": 13,
   "id": "50e4cdc7",
   "metadata": {
    "execution": {
     "iopub.execute_input": "2022-04-17T07:05:31.149357Z",
     "iopub.status.busy": "2022-04-17T07:05:31.148616Z",
     "iopub.status.idle": "2022-04-17T07:05:31.154216Z",
     "shell.execute_reply": "2022-04-17T07:05:31.154732Z",
     "shell.execute_reply.started": "2022-04-17T07:03:46.417920Z"
    },
    "papermill": {
     "duration": 0.091729,
     "end_time": "2022-04-17T07:05:31.154890",
     "exception": false,
     "start_time": "2022-04-17T07:05:31.063161",
     "status": "completed"
    },
    "tags": []
   },
   "outputs": [
    {
     "data": {
      "text/plain": [
       "Id               int64\n",
       "ActivityHour    object\n",
       "Calories         int64\n",
       "dtype: object"
      ]
     },
     "execution_count": 13,
     "metadata": {},
     "output_type": "execute_result"
    }
   ],
   "source": [
    "hourly_calories.dtypes"
   ]
  },
  {
   "cell_type": "code",
   "execution_count": 14,
   "id": "9be6c015",
   "metadata": {
    "execution": {
     "iopub.execute_input": "2022-04-17T07:05:31.322974Z",
     "iopub.status.busy": "2022-04-17T07:05:31.322400Z",
     "iopub.status.idle": "2022-04-17T07:05:31.328168Z",
     "shell.execute_reply": "2022-04-17T07:05:31.328769Z",
     "shell.execute_reply.started": "2022-04-17T07:03:46.487738Z"
    },
    "papermill": {
     "duration": 0.091747,
     "end_time": "2022-04-17T07:05:31.328906",
     "exception": false,
     "start_time": "2022-04-17T07:05:31.237159",
     "status": "completed"
    },
    "tags": []
   },
   "outputs": [
    {
     "data": {
      "text/plain": [
       "Id               int64\n",
       "ActivityHour    object\n",
       "StepTotal        int64\n",
       "dtype: object"
      ]
     },
     "execution_count": 14,
     "metadata": {},
     "output_type": "execute_result"
    }
   ],
   "source": [
    "hourly_steps.dtypes"
   ]
  },
  {
   "cell_type": "markdown",
   "id": "ac8d0a23",
   "metadata": {
    "papermill": {
     "duration": 0.083521,
     "end_time": "2022-04-17T07:05:31.495217",
     "exception": false,
     "start_time": "2022-04-17T07:05:31.411696",
     "status": "completed"
    },
    "tags": []
   },
   "source": [
    "### **Correcting the dataypes of date columns**\n",
    "We will use the to_datetime to create uniformity in the dates and convert the object type columns to datetime columns."
   ]
  },
  {
   "cell_type": "code",
   "execution_count": 15,
   "id": "10b2f677",
   "metadata": {
    "execution": {
     "iopub.execute_input": "2022-04-17T07:05:31.667548Z",
     "iopub.status.busy": "2022-04-17T07:05:31.666858Z",
     "iopub.status.idle": "2022-04-17T07:05:31.685246Z",
     "shell.execute_reply": "2022-04-17T07:05:31.685648Z",
     "shell.execute_reply.started": "2022-04-17T07:03:46.565995Z"
    },
    "papermill": {
     "duration": 0.10655,
     "end_time": "2022-04-17T07:05:31.685777",
     "exception": false,
     "start_time": "2022-04-17T07:05:31.579227",
     "status": "completed"
    },
    "tags": []
   },
   "outputs": [],
   "source": [
    "daily_activities['ActivityDate'] = pd.to_datetime(daily_activities['ActivityDate'])"
   ]
  },
  {
   "cell_type": "code",
   "execution_count": 16,
   "id": "2b1a3773",
   "metadata": {
    "execution": {
     "iopub.execute_input": "2022-04-17T07:05:31.803026Z",
     "iopub.status.busy": "2022-04-17T07:05:31.802547Z",
     "iopub.status.idle": "2022-04-17T07:05:31.805660Z",
     "shell.execute_reply": "2022-04-17T07:05:31.806004Z",
     "shell.execute_reply.started": "2022-04-17T07:03:46.627341Z"
    },
    "papermill": {
     "duration": 0.065547,
     "end_time": "2022-04-17T07:05:31.806124",
     "exception": false,
     "start_time": "2022-04-17T07:05:31.740577",
     "status": "completed"
    },
    "tags": []
   },
   "outputs": [
    {
     "data": {
      "text/plain": [
       "Id                                   int64\n",
       "ActivityDate                datetime64[ns]\n",
       "TotalSteps                           int64\n",
       "TotalDistance                      float64\n",
       "TrackerDistance                    float64\n",
       "LoggedActivitiesDistance           float64\n",
       "VeryActiveDistance                 float64\n",
       "ModeratelyActiveDistance           float64\n",
       "LightActiveDistance                float64\n",
       "SedentaryActiveDistance            float64\n",
       "VeryActiveMinutes                    int64\n",
       "FairlyActiveMinutes                  int64\n",
       "LightlyActiveMinutes                 int64\n",
       "SedentaryMinutes                     int64\n",
       "Calories                             int64\n",
       "dtype: object"
      ]
     },
     "execution_count": 16,
     "metadata": {},
     "output_type": "execute_result"
    }
   ],
   "source": [
    "daily_activities.dtypes"
   ]
  },
  {
   "cell_type": "code",
   "execution_count": 17,
   "id": "379c5c74",
   "metadata": {
    "execution": {
     "iopub.execute_input": "2022-04-17T07:05:31.919201Z",
     "iopub.status.busy": "2022-04-17T07:05:31.918768Z",
     "iopub.status.idle": "2022-04-17T07:05:31.929379Z",
     "shell.execute_reply": "2022-04-17T07:05:31.929752Z",
     "shell.execute_reply.started": "2022-04-17T07:03:46.697881Z"
    },
    "papermill": {
     "duration": 0.068817,
     "end_time": "2022-04-17T07:05:31.929876",
     "exception": false,
     "start_time": "2022-04-17T07:05:31.861059",
     "status": "completed"
    },
    "tags": []
   },
   "outputs": [],
   "source": [
    "sleep_day['SleepDay'] = pd.to_datetime(sleep_day['SleepDay'])"
   ]
  },
  {
   "cell_type": "code",
   "execution_count": 18,
   "id": "992b44bd",
   "metadata": {
    "execution": {
     "iopub.execute_input": "2022-04-17T07:05:32.043425Z",
     "iopub.status.busy": "2022-04-17T07:05:32.042965Z",
     "iopub.status.idle": "2022-04-17T07:05:32.048655Z",
     "shell.execute_reply": "2022-04-17T07:05:32.049084Z",
     "shell.execute_reply.started": "2022-04-17T07:03:46.767368Z"
    },
    "papermill": {
     "duration": 0.064495,
     "end_time": "2022-04-17T07:05:32.049203",
     "exception": false,
     "start_time": "2022-04-17T07:05:31.984708",
     "status": "completed"
    },
    "tags": []
   },
   "outputs": [
    {
     "data": {
      "text/plain": [
       "Id                             int64\n",
       "SleepDay              datetime64[ns]\n",
       "TotalSleepRecords              int64\n",
       "TotalMinutesAsleep             int64\n",
       "TotalTimeInBed                 int64\n",
       "dtype: object"
      ]
     },
     "execution_count": 18,
     "metadata": {},
     "output_type": "execute_result"
    }
   ],
   "source": [
    "sleep_day.dtypes"
   ]
  },
  {
   "cell_type": "code",
   "execution_count": 19,
   "id": "373fa73b",
   "metadata": {
    "execution": {
     "iopub.execute_input": "2022-04-17T07:05:32.161569Z",
     "iopub.status.busy": "2022-04-17T07:05:32.161106Z",
     "iopub.status.idle": "2022-04-17T07:05:32.176194Z",
     "shell.execute_reply": "2022-04-17T07:05:32.176621Z",
     "shell.execute_reply.started": "2022-04-17T07:03:46.837545Z"
    },
    "papermill": {
     "duration": 0.072893,
     "end_time": "2022-04-17T07:05:32.176760",
     "exception": false,
     "start_time": "2022-04-17T07:05:32.103867",
     "status": "completed"
    },
    "tags": []
   },
   "outputs": [],
   "source": [
    "weight_log['Date'] = pd.to_datetime(weight_log['Date'])"
   ]
  },
  {
   "cell_type": "code",
   "execution_count": 20,
   "id": "f8227e6a",
   "metadata": {
    "execution": {
     "iopub.execute_input": "2022-04-17T07:05:32.294599Z",
     "iopub.status.busy": "2022-04-17T07:05:32.291146Z",
     "iopub.status.idle": "2022-04-17T07:05:32.297258Z",
     "shell.execute_reply": "2022-04-17T07:05:32.297668Z",
     "shell.execute_reply.started": "2022-04-17T07:03:46.917648Z"
    },
    "papermill": {
     "duration": 0.064671,
     "end_time": "2022-04-17T07:05:32.297805",
     "exception": false,
     "start_time": "2022-04-17T07:05:32.233134",
     "status": "completed"
    },
    "tags": []
   },
   "outputs": [
    {
     "data": {
      "text/plain": [
       "Id                         int64\n",
       "Date              datetime64[ns]\n",
       "WeightKg                 float64\n",
       "WeightPounds             float64\n",
       "Fat                      float64\n",
       "BMI                      float64\n",
       "IsManualReport              bool\n",
       "LogId                      int64\n",
       "dtype: object"
      ]
     },
     "execution_count": 20,
     "metadata": {},
     "output_type": "execute_result"
    }
   ],
   "source": [
    "weight_log.dtypes"
   ]
  },
  {
   "cell_type": "code",
   "execution_count": 21,
   "id": "5da52bde",
   "metadata": {
    "execution": {
     "iopub.execute_input": "2022-04-17T07:05:32.422409Z",
     "iopub.status.busy": "2022-04-17T07:05:32.417363Z",
     "iopub.status.idle": "2022-04-17T07:05:35.769505Z",
     "shell.execute_reply": "2022-04-17T07:05:35.768833Z",
     "shell.execute_reply.started": "2022-04-17T07:03:46.987391Z"
    },
    "papermill": {
     "duration": 3.416422,
     "end_time": "2022-04-17T07:05:35.769729",
     "exception": false,
     "start_time": "2022-04-17T07:05:32.353307",
     "status": "completed"
    },
    "tags": []
   },
   "outputs": [],
   "source": [
    "hourly_intensities['ActivityHour'] = pd.to_datetime(hourly_intensities['ActivityHour'])"
   ]
  },
  {
   "cell_type": "code",
   "execution_count": 22,
   "id": "906eaa77",
   "metadata": {
    "execution": {
     "iopub.execute_input": "2022-04-17T07:05:35.948651Z",
     "iopub.status.busy": "2022-04-17T07:05:35.947615Z",
     "iopub.status.idle": "2022-04-17T07:05:35.951953Z",
     "shell.execute_reply": "2022-04-17T07:05:35.951323Z",
     "shell.execute_reply.started": "2022-04-17T07:03:49.628319Z"
    },
    "papermill": {
     "duration": 0.096023,
     "end_time": "2022-04-17T07:05:35.952081",
     "exception": false,
     "start_time": "2022-04-17T07:05:35.856058",
     "status": "completed"
    },
    "tags": []
   },
   "outputs": [
    {
     "data": {
      "text/plain": [
       "Id                           int64\n",
       "ActivityHour        datetime64[ns]\n",
       "TotalIntensity               int64\n",
       "AverageIntensity           float64\n",
       "dtype: object"
      ]
     },
     "execution_count": 22,
     "metadata": {},
     "output_type": "execute_result"
    }
   ],
   "source": [
    "hourly_intensities.dtypes"
   ]
  },
  {
   "cell_type": "code",
   "execution_count": 23,
   "id": "cfbfa061",
   "metadata": {
    "execution": {
     "iopub.execute_input": "2022-04-17T07:05:36.159223Z",
     "iopub.status.busy": "2022-04-17T07:05:36.154063Z",
     "iopub.status.idle": "2022-04-17T07:05:39.549949Z",
     "shell.execute_reply": "2022-04-17T07:05:39.550355Z",
     "shell.execute_reply.started": "2022-04-17T07:03:49.636923Z"
    },
    "papermill": {
     "duration": 3.511876,
     "end_time": "2022-04-17T07:05:39.550517",
     "exception": false,
     "start_time": "2022-04-17T07:05:36.038641",
     "status": "completed"
    },
    "tags": []
   },
   "outputs": [],
   "source": [
    "hourly_calories['ActivityHour'] = pd.to_datetime(hourly_calories['ActivityHour'])"
   ]
  },
  {
   "cell_type": "code",
   "execution_count": 24,
   "id": "53ea3da5",
   "metadata": {
    "execution": {
     "iopub.execute_input": "2022-04-17T07:05:39.666882Z",
     "iopub.status.busy": "2022-04-17T07:05:39.666438Z",
     "iopub.status.idle": "2022-04-17T07:05:39.672366Z",
     "shell.execute_reply": "2022-04-17T07:05:39.672716Z",
     "shell.execute_reply.started": "2022-04-17T07:03:52.272190Z"
    },
    "papermill": {
     "duration": 0.065499,
     "end_time": "2022-04-17T07:05:39.672827",
     "exception": false,
     "start_time": "2022-04-17T07:05:39.607328",
     "status": "completed"
    },
    "tags": []
   },
   "outputs": [
    {
     "data": {
      "text/plain": [
       "Id                       int64\n",
       "ActivityHour    datetime64[ns]\n",
       "Calories                 int64\n",
       "dtype: object"
      ]
     },
     "execution_count": 24,
     "metadata": {},
     "output_type": "execute_result"
    }
   ],
   "source": [
    "hourly_calories.dtypes"
   ]
  },
  {
   "cell_type": "code",
   "execution_count": 25,
   "id": "242fe6dc",
   "metadata": {
    "execution": {
     "iopub.execute_input": "2022-04-17T07:05:39.804029Z",
     "iopub.status.busy": "2022-04-17T07:05:39.793797Z",
     "iopub.status.idle": "2022-04-17T07:05:43.155695Z",
     "shell.execute_reply": "2022-04-17T07:05:43.155139Z",
     "shell.execute_reply.started": "2022-04-17T07:03:52.280703Z"
    },
    "papermill": {
     "duration": 3.426376,
     "end_time": "2022-04-17T07:05:43.155839",
     "exception": false,
     "start_time": "2022-04-17T07:05:39.729463",
     "status": "completed"
    },
    "tags": []
   },
   "outputs": [],
   "source": [
    "hourly_steps['ActivityHour'] = pd.to_datetime(hourly_steps['ActivityHour'])"
   ]
  },
  {
   "cell_type": "code",
   "execution_count": 26,
   "id": "dd75b9d2",
   "metadata": {
    "execution": {
     "iopub.execute_input": "2022-04-17T07:05:43.336686Z",
     "iopub.status.busy": "2022-04-17T07:05:43.336036Z",
     "iopub.status.idle": "2022-04-17T07:05:43.338613Z",
     "shell.execute_reply": "2022-04-17T07:05:43.339105Z",
     "shell.execute_reply.started": "2022-04-17T07:03:54.893479Z"
    },
    "papermill": {
     "duration": 0.09578,
     "end_time": "2022-04-17T07:05:43.339263",
     "exception": false,
     "start_time": "2022-04-17T07:05:43.243483",
     "status": "completed"
    },
    "tags": []
   },
   "outputs": [
    {
     "data": {
      "text/plain": [
       "Id                       int64\n",
       "ActivityHour    datetime64[ns]\n",
       "StepTotal                int64\n",
       "dtype: object"
      ]
     },
     "execution_count": 26,
     "metadata": {},
     "output_type": "execute_result"
    }
   ],
   "source": [
    "hourly_steps.dtypes"
   ]
  },
  {
   "cell_type": "markdown",
   "id": "4a6f65bb",
   "metadata": {
    "papermill": {
     "duration": 0.08619,
     "end_time": "2022-04-17T07:05:43.512875",
     "exception": false,
     "start_time": "2022-04-17T07:05:43.426685",
     "status": "completed"
    },
    "tags": []
   },
   "source": [
    "### **Checking the null values in each dataframe**"
   ]
  },
  {
   "cell_type": "code",
   "execution_count": 27,
   "id": "af7a8391",
   "metadata": {
    "execution": {
     "iopub.execute_input": "2022-04-17T07:05:43.691419Z",
     "iopub.status.busy": "2022-04-17T07:05:43.690519Z",
     "iopub.status.idle": "2022-04-17T07:05:43.698402Z",
     "shell.execute_reply": "2022-04-17T07:05:43.698926Z",
     "shell.execute_reply.started": "2022-04-17T07:03:54.901703Z"
    },
    "papermill": {
     "duration": 0.099142,
     "end_time": "2022-04-17T07:05:43.699082",
     "exception": false,
     "start_time": "2022-04-17T07:05:43.599940",
     "status": "completed"
    },
    "tags": []
   },
   "outputs": [
    {
     "data": {
      "text/plain": [
       "Id                          0\n",
       "ActivityDate                0\n",
       "TotalSteps                  0\n",
       "TotalDistance               0\n",
       "TrackerDistance             0\n",
       "LoggedActivitiesDistance    0\n",
       "VeryActiveDistance          0\n",
       "ModeratelyActiveDistance    0\n",
       "LightActiveDistance         0\n",
       "SedentaryActiveDistance     0\n",
       "VeryActiveMinutes           0\n",
       "FairlyActiveMinutes         0\n",
       "LightlyActiveMinutes        0\n",
       "SedentaryMinutes            0\n",
       "Calories                    0\n",
       "dtype: int64"
      ]
     },
     "execution_count": 27,
     "metadata": {},
     "output_type": "execute_result"
    }
   ],
   "source": [
    "daily_activities.isnull().sum()"
   ]
  },
  {
   "cell_type": "code",
   "execution_count": 28,
   "id": "38ee294a",
   "metadata": {
    "execution": {
     "iopub.execute_input": "2022-04-17T07:05:43.876867Z",
     "iopub.status.busy": "2022-04-17T07:05:43.876049Z",
     "iopub.status.idle": "2022-04-17T07:05:43.883912Z",
     "shell.execute_reply": "2022-04-17T07:05:43.884514Z",
     "shell.execute_reply.started": "2022-04-17T07:03:54.914431Z"
    },
    "papermill": {
     "duration": 0.098296,
     "end_time": "2022-04-17T07:05:43.884678",
     "exception": false,
     "start_time": "2022-04-17T07:05:43.786382",
     "status": "completed"
    },
    "tags": []
   },
   "outputs": [
    {
     "data": {
      "text/plain": [
       "Id                    0\n",
       "SleepDay              0\n",
       "TotalSleepRecords     0\n",
       "TotalMinutesAsleep    0\n",
       "TotalTimeInBed        0\n",
       "dtype: int64"
      ]
     },
     "execution_count": 28,
     "metadata": {},
     "output_type": "execute_result"
    }
   ],
   "source": [
    "sleep_day.isnull().sum()"
   ]
  },
  {
   "cell_type": "code",
   "execution_count": 29,
   "id": "5fbc9214",
   "metadata": {
    "execution": {
     "iopub.execute_input": "2022-04-17T07:05:44.068349Z",
     "iopub.status.busy": "2022-04-17T07:05:44.067492Z",
     "iopub.status.idle": "2022-04-17T07:05:44.076338Z",
     "shell.execute_reply": "2022-04-17T07:05:44.076867Z",
     "shell.execute_reply.started": "2022-04-17T07:03:54.922825Z"
    },
    "papermill": {
     "duration": 0.100367,
     "end_time": "2022-04-17T07:05:44.077053",
     "exception": false,
     "start_time": "2022-04-17T07:05:43.976686",
     "status": "completed"
    },
    "tags": []
   },
   "outputs": [
    {
     "data": {
      "text/plain": [
       "Id                 0\n",
       "Date               0\n",
       "WeightKg           0\n",
       "WeightPounds       0\n",
       "Fat               65\n",
       "BMI                0\n",
       "IsManualReport     0\n",
       "LogId              0\n",
       "dtype: int64"
      ]
     },
     "execution_count": 29,
     "metadata": {},
     "output_type": "execute_result"
    }
   ],
   "source": [
    "weight_log.isnull().sum()"
   ]
  },
  {
   "cell_type": "code",
   "execution_count": 30,
   "id": "f953abd2",
   "metadata": {
    "execution": {
     "iopub.execute_input": "2022-04-17T07:05:44.260962Z",
     "iopub.status.busy": "2022-04-17T07:05:44.260023Z",
     "iopub.status.idle": "2022-04-17T07:05:44.265533Z",
     "shell.execute_reply": "2022-04-17T07:05:44.266071Z",
     "shell.execute_reply.started": "2022-04-17T07:03:54.935697Z"
    },
    "papermill": {
     "duration": 0.099154,
     "end_time": "2022-04-17T07:05:44.266229",
     "exception": false,
     "start_time": "2022-04-17T07:05:44.167075",
     "status": "completed"
    },
    "tags": []
   },
   "outputs": [
    {
     "data": {
      "text/plain": [
       "Id                  0\n",
       "ActivityHour        0\n",
       "TotalIntensity      0\n",
       "AverageIntensity    0\n",
       "dtype: int64"
      ]
     },
     "execution_count": 30,
     "metadata": {},
     "output_type": "execute_result"
    }
   ],
   "source": [
    "hourly_intensities.isnull().sum()"
   ]
  },
  {
   "cell_type": "code",
   "execution_count": 31,
   "id": "3cda8945",
   "metadata": {
    "execution": {
     "iopub.execute_input": "2022-04-17T07:05:44.450418Z",
     "iopub.status.busy": "2022-04-17T07:05:44.449547Z",
     "iopub.status.idle": "2022-04-17T07:05:44.456994Z",
     "shell.execute_reply": "2022-04-17T07:05:44.457620Z",
     "shell.execute_reply.started": "2022-04-17T07:03:54.945431Z"
    },
    "papermill": {
     "duration": 0.101486,
     "end_time": "2022-04-17T07:05:44.457783",
     "exception": false,
     "start_time": "2022-04-17T07:05:44.356297",
     "status": "completed"
    },
    "tags": []
   },
   "outputs": [
    {
     "data": {
      "text/plain": [
       "Id              0\n",
       "ActivityHour    0\n",
       "Calories        0\n",
       "dtype: int64"
      ]
     },
     "execution_count": 31,
     "metadata": {},
     "output_type": "execute_result"
    }
   ],
   "source": [
    "hourly_calories.isnull().sum()"
   ]
  },
  {
   "cell_type": "code",
   "execution_count": 32,
   "id": "2e2dd5b7",
   "metadata": {
    "execution": {
     "iopub.execute_input": "2022-04-17T07:05:44.644749Z",
     "iopub.status.busy": "2022-04-17T07:05:44.643913Z",
     "iopub.status.idle": "2022-04-17T07:05:44.651711Z",
     "shell.execute_reply": "2022-04-17T07:05:44.651182Z",
     "shell.execute_reply.started": "2022-04-17T07:03:54.955474Z"
    },
    "papermill": {
     "duration": 0.102242,
     "end_time": "2022-04-17T07:05:44.651840",
     "exception": false,
     "start_time": "2022-04-17T07:05:44.549598",
     "status": "completed"
    },
    "tags": []
   },
   "outputs": [
    {
     "data": {
      "text/plain": [
       "Id              0\n",
       "ActivityHour    0\n",
       "StepTotal       0\n",
       "dtype: int64"
      ]
     },
     "execution_count": 32,
     "metadata": {},
     "output_type": "execute_result"
    }
   ],
   "source": [
    "hourly_steps.isnull().sum()"
   ]
  },
  {
   "cell_type": "markdown",
   "id": "f0516ccf",
   "metadata": {
    "papermill": {
     "duration": 0.091994,
     "end_time": "2022-04-17T07:05:44.835412",
     "exception": false,
     "start_time": "2022-04-17T07:05:44.743418",
     "status": "completed"
    },
    "tags": []
   },
   "source": [
    "### **Inspecting the null values**\n",
    "So we found that in wait_log dataframe there are 65 null values in Fat column. Let's dive deep into the dataframe to find more about the null values."
   ]
  },
  {
   "cell_type": "code",
   "execution_count": 33,
   "id": "2cc6737d",
   "metadata": {
    "execution": {
     "iopub.execute_input": "2022-04-17T07:05:45.024692Z",
     "iopub.status.busy": "2022-04-17T07:05:45.023927Z",
     "iopub.status.idle": "2022-04-17T07:05:45.027012Z",
     "shell.execute_reply": "2022-04-17T07:05:45.027551Z",
     "shell.execute_reply.started": "2022-04-17T07:03:54.965818Z"
    },
    "papermill": {
     "duration": 0.100892,
     "end_time": "2022-04-17T07:05:45.027709",
     "exception": false,
     "start_time": "2022-04-17T07:05:44.926817",
     "status": "completed"
    },
    "tags": []
   },
   "outputs": [
    {
     "name": "stdout",
     "output_type": "stream",
     "text": [
      "<bound method Series.count of 0     22.0\n",
      "1      NaN\n",
      "2      NaN\n",
      "3      NaN\n",
      "4      NaN\n",
      "      ... \n",
      "62     NaN\n",
      "63     NaN\n",
      "64     NaN\n",
      "65     NaN\n",
      "66     NaN\n",
      "Name: Fat, Length: 67, dtype: float64>\n"
     ]
    }
   ],
   "source": [
    "print(weight_log['Fat'].count)"
   ]
  },
  {
   "cell_type": "markdown",
   "id": "e05ed66a",
   "metadata": {
    "papermill": {
     "duration": 0.090113,
     "end_time": "2022-04-17T07:05:45.208726",
     "exception": false,
     "start_time": "2022-04-17T07:05:45.118613",
     "status": "completed"
    },
    "tags": []
   },
   "source": [
    "So there are total 67 rows in the Fat column of weight_log data frame and 65 of the values are null. Since we can't get the data for missing fields and putting average of Fat values will not work so we will drop the Fat column and work with the rest of columns."
   ]
  },
  {
   "cell_type": "markdown",
   "id": "385ff171",
   "metadata": {
    "papermill": {
     "duration": 0.096793,
     "end_time": "2022-04-17T07:05:45.396839",
     "exception": false,
     "start_time": "2022-04-17T07:05:45.300046",
     "status": "completed"
    },
    "tags": []
   },
   "source": [
    "### **Dropping Fat column of weight_log dataframe**"
   ]
  },
  {
   "cell_type": "code",
   "execution_count": 34,
   "id": "6bdae83b",
   "metadata": {
    "execution": {
     "iopub.execute_input": "2022-04-17T07:05:45.583845Z",
     "iopub.status.busy": "2022-04-17T07:05:45.583191Z",
     "iopub.status.idle": "2022-04-17T07:05:45.589911Z",
     "shell.execute_reply": "2022-04-17T07:05:45.589257Z",
     "shell.execute_reply.started": "2022-04-17T07:03:54.975364Z"
    },
    "papermill": {
     "duration": 0.10126,
     "end_time": "2022-04-17T07:05:45.590039",
     "exception": false,
     "start_time": "2022-04-17T07:05:45.488779",
     "status": "completed"
    },
    "tags": []
   },
   "outputs": [],
   "source": [
    "weight_log = weight_log.drop(['Fat'],axis=1)"
   ]
  },
  {
   "cell_type": "code",
   "execution_count": 35,
   "id": "0cfe82f3",
   "metadata": {
    "execution": {
     "iopub.execute_input": "2022-04-17T07:05:45.785355Z",
     "iopub.status.busy": "2022-04-17T07:05:45.784600Z",
     "iopub.status.idle": "2022-04-17T07:05:45.788286Z",
     "shell.execute_reply": "2022-04-17T07:05:45.787775Z",
     "shell.execute_reply.started": "2022-04-17T07:03:54.985933Z"
    },
    "papermill": {
     "duration": 0.108348,
     "end_time": "2022-04-17T07:05:45.788410",
     "exception": false,
     "start_time": "2022-04-17T07:05:45.680062",
     "status": "completed"
    },
    "tags": []
   },
   "outputs": [
    {
     "name": "stdout",
     "output_type": "stream",
     "text": [
      "<class 'pandas.core.frame.DataFrame'>\n",
      "RangeIndex: 67 entries, 0 to 66\n",
      "Data columns (total 7 columns):\n",
      " #   Column          Non-Null Count  Dtype         \n",
      "---  ------          --------------  -----         \n",
      " 0   Id              67 non-null     int64         \n",
      " 1   Date            67 non-null     datetime64[ns]\n",
      " 2   WeightKg        67 non-null     float64       \n",
      " 3   WeightPounds    67 non-null     float64       \n",
      " 4   BMI             67 non-null     float64       \n",
      " 5   IsManualReport  67 non-null     bool          \n",
      " 6   LogId           67 non-null     int64         \n",
      "dtypes: bool(1), datetime64[ns](1), float64(3), int64(2)\n",
      "memory usage: 3.3 KB\n"
     ]
    }
   ],
   "source": [
    "weight_log.info()"
   ]
  },
  {
   "cell_type": "markdown",
   "id": "51639d45",
   "metadata": {
    "papermill": {
     "duration": 0.090203,
     "end_time": "2022-04-17T07:05:45.968947",
     "exception": false,
     "start_time": "2022-04-17T07:05:45.878744",
     "status": "completed"
    },
    "tags": []
   },
   "source": [
    "### **Splitting the date and time value in hourly_intesities, hourly_calories and hourly_steps dataframes**\n",
    "This will help us later to easily merge dataframes based on the dates."
   ]
  },
  {
   "cell_type": "code",
   "execution_count": 36,
   "id": "6c9871df",
   "metadata": {
    "execution": {
     "iopub.execute_input": "2022-04-17T07:05:46.171802Z",
     "iopub.status.busy": "2022-04-17T07:05:46.164820Z",
     "iopub.status.idle": "2022-04-17T07:05:46.193024Z",
     "shell.execute_reply": "2022-04-17T07:05:46.192367Z",
     "shell.execute_reply.started": "2022-04-17T07:03:55.004731Z"
    },
    "papermill": {
     "duration": 0.134728,
     "end_time": "2022-04-17T07:05:46.193176",
     "exception": false,
     "start_time": "2022-04-17T07:05:46.058448",
     "status": "completed"
    },
    "tags": []
   },
   "outputs": [
    {
     "name": "stdout",
     "output_type": "stream",
     "text": [
      "<class 'pandas.core.frame.DataFrame'>\n",
      "RangeIndex: 22099 entries, 0 to 22098\n",
      "Data columns (total 6 columns):\n",
      " #   Column            Non-Null Count  Dtype         \n",
      "---  ------            --------------  -----         \n",
      " 0   Id                22099 non-null  int64         \n",
      " 1   ActivityHour      22099 non-null  datetime64[ns]\n",
      " 2   TotalIntensity    22099 non-null  int64         \n",
      " 3   AverageIntensity  22099 non-null  float64       \n",
      " 4   ActivityDate      22099 non-null  object        \n",
      " 5   ActivityTime      22099 non-null  object        \n",
      "dtypes: datetime64[ns](1), float64(1), int64(2), object(2)\n",
      "memory usage: 1.0+ MB\n"
     ]
    }
   ],
   "source": [
    "hourly_intensities['ActivityDate'] = pd.to_datetime(hourly_intensities['ActivityHour']).dt.date\n",
    "hourly_intensities['ActivityTime'] = pd.to_datetime(hourly_intensities['ActivityHour']).dt.time\n",
    "hourly_intensities.info()"
   ]
  },
  {
   "cell_type": "code",
   "execution_count": 37,
   "id": "741097e6",
   "metadata": {
    "execution": {
     "iopub.execute_input": "2022-04-17T07:05:46.406141Z",
     "iopub.status.busy": "2022-04-17T07:05:46.384541Z",
     "iopub.status.idle": "2022-04-17T07:05:46.415369Z",
     "shell.execute_reply": "2022-04-17T07:05:46.414861Z",
     "shell.execute_reply.started": "2022-04-17T07:03:55.077728Z"
    },
    "papermill": {
     "duration": 0.131513,
     "end_time": "2022-04-17T07:05:46.415473",
     "exception": false,
     "start_time": "2022-04-17T07:05:46.283960",
     "status": "completed"
    },
    "tags": []
   },
   "outputs": [
    {
     "data": {
      "text/html": [
       "<div>\n",
       "<style scoped>\n",
       "    .dataframe tbody tr th:only-of-type {\n",
       "        vertical-align: middle;\n",
       "    }\n",
       "\n",
       "    .dataframe tbody tr th {\n",
       "        vertical-align: top;\n",
       "    }\n",
       "\n",
       "    .dataframe thead th {\n",
       "        text-align: right;\n",
       "    }\n",
       "</style>\n",
       "<table border=\"1\" class=\"dataframe\">\n",
       "  <thead>\n",
       "    <tr style=\"text-align: right;\">\n",
       "      <th></th>\n",
       "      <th>Id</th>\n",
       "      <th>ActivityHour</th>\n",
       "      <th>Calories</th>\n",
       "      <th>ActivityDate</th>\n",
       "      <th>ActivityTime</th>\n",
       "    </tr>\n",
       "  </thead>\n",
       "  <tbody>\n",
       "    <tr>\n",
       "      <th>0</th>\n",
       "      <td>1503960366</td>\n",
       "      <td>2016-04-12 00:00:00</td>\n",
       "      <td>81</td>\n",
       "      <td>2016-04-12</td>\n",
       "      <td>00:00:00</td>\n",
       "    </tr>\n",
       "    <tr>\n",
       "      <th>1</th>\n",
       "      <td>1503960366</td>\n",
       "      <td>2016-04-12 01:00:00</td>\n",
       "      <td>61</td>\n",
       "      <td>2016-04-12</td>\n",
       "      <td>01:00:00</td>\n",
       "    </tr>\n",
       "    <tr>\n",
       "      <th>2</th>\n",
       "      <td>1503960366</td>\n",
       "      <td>2016-04-12 02:00:00</td>\n",
       "      <td>59</td>\n",
       "      <td>2016-04-12</td>\n",
       "      <td>02:00:00</td>\n",
       "    </tr>\n",
       "    <tr>\n",
       "      <th>3</th>\n",
       "      <td>1503960366</td>\n",
       "      <td>2016-04-12 03:00:00</td>\n",
       "      <td>47</td>\n",
       "      <td>2016-04-12</td>\n",
       "      <td>03:00:00</td>\n",
       "    </tr>\n",
       "    <tr>\n",
       "      <th>4</th>\n",
       "      <td>1503960366</td>\n",
       "      <td>2016-04-12 04:00:00</td>\n",
       "      <td>48</td>\n",
       "      <td>2016-04-12</td>\n",
       "      <td>04:00:00</td>\n",
       "    </tr>\n",
       "  </tbody>\n",
       "</table>\n",
       "</div>"
      ],
      "text/plain": [
       "           Id        ActivityHour  Calories ActivityDate ActivityTime\n",
       "0  1503960366 2016-04-12 00:00:00        81   2016-04-12     00:00:00\n",
       "1  1503960366 2016-04-12 01:00:00        61   2016-04-12     01:00:00\n",
       "2  1503960366 2016-04-12 02:00:00        59   2016-04-12     02:00:00\n",
       "3  1503960366 2016-04-12 03:00:00        47   2016-04-12     03:00:00\n",
       "4  1503960366 2016-04-12 04:00:00        48   2016-04-12     04:00:00"
      ]
     },
     "execution_count": 37,
     "metadata": {},
     "output_type": "execute_result"
    }
   ],
   "source": [
    "hourly_calories['ActivityDate'] = pd.to_datetime(hourly_calories['ActivityHour']).dt.date\n",
    "hourly_calories['ActivityTime'] = pd.to_datetime(hourly_calories['ActivityHour']).dt.time\n",
    "hourly_calories.head()"
   ]
  },
  {
   "cell_type": "code",
   "execution_count": 38,
   "id": "87170396",
   "metadata": {
    "execution": {
     "iopub.execute_input": "2022-04-17T07:05:46.540896Z",
     "iopub.status.busy": "2022-04-17T07:05:46.540429Z",
     "iopub.status.idle": "2022-04-17T07:05:46.601601Z",
     "shell.execute_reply": "2022-04-17T07:05:46.602027Z",
     "shell.execute_reply.started": "2022-04-17T07:03:55.141285Z"
    },
    "papermill": {
     "duration": 0.12622,
     "end_time": "2022-04-17T07:05:46.602146",
     "exception": false,
     "start_time": "2022-04-17T07:05:46.475926",
     "status": "completed"
    },
    "tags": []
   },
   "outputs": [
    {
     "data": {
      "text/html": [
       "<div>\n",
       "<style scoped>\n",
       "    .dataframe tbody tr th:only-of-type {\n",
       "        vertical-align: middle;\n",
       "    }\n",
       "\n",
       "    .dataframe tbody tr th {\n",
       "        vertical-align: top;\n",
       "    }\n",
       "\n",
       "    .dataframe thead th {\n",
       "        text-align: right;\n",
       "    }\n",
       "</style>\n",
       "<table border=\"1\" class=\"dataframe\">\n",
       "  <thead>\n",
       "    <tr style=\"text-align: right;\">\n",
       "      <th></th>\n",
       "      <th>Id</th>\n",
       "      <th>ActivityHour</th>\n",
       "      <th>StepTotal</th>\n",
       "      <th>ActivityDate</th>\n",
       "      <th>ActivityTime</th>\n",
       "    </tr>\n",
       "  </thead>\n",
       "  <tbody>\n",
       "    <tr>\n",
       "      <th>0</th>\n",
       "      <td>1503960366</td>\n",
       "      <td>2016-04-12 00:00:00</td>\n",
       "      <td>373</td>\n",
       "      <td>2016-04-12</td>\n",
       "      <td>00:00:00</td>\n",
       "    </tr>\n",
       "    <tr>\n",
       "      <th>1</th>\n",
       "      <td>1503960366</td>\n",
       "      <td>2016-04-12 01:00:00</td>\n",
       "      <td>160</td>\n",
       "      <td>2016-04-12</td>\n",
       "      <td>01:00:00</td>\n",
       "    </tr>\n",
       "    <tr>\n",
       "      <th>2</th>\n",
       "      <td>1503960366</td>\n",
       "      <td>2016-04-12 02:00:00</td>\n",
       "      <td>151</td>\n",
       "      <td>2016-04-12</td>\n",
       "      <td>02:00:00</td>\n",
       "    </tr>\n",
       "    <tr>\n",
       "      <th>3</th>\n",
       "      <td>1503960366</td>\n",
       "      <td>2016-04-12 03:00:00</td>\n",
       "      <td>0</td>\n",
       "      <td>2016-04-12</td>\n",
       "      <td>03:00:00</td>\n",
       "    </tr>\n",
       "    <tr>\n",
       "      <th>4</th>\n",
       "      <td>1503960366</td>\n",
       "      <td>2016-04-12 04:00:00</td>\n",
       "      <td>0</td>\n",
       "      <td>2016-04-12</td>\n",
       "      <td>04:00:00</td>\n",
       "    </tr>\n",
       "  </tbody>\n",
       "</table>\n",
       "</div>"
      ],
      "text/plain": [
       "           Id        ActivityHour  StepTotal ActivityDate ActivityTime\n",
       "0  1503960366 2016-04-12 00:00:00        373   2016-04-12     00:00:00\n",
       "1  1503960366 2016-04-12 01:00:00        160   2016-04-12     01:00:00\n",
       "2  1503960366 2016-04-12 02:00:00        151   2016-04-12     02:00:00\n",
       "3  1503960366 2016-04-12 03:00:00          0   2016-04-12     03:00:00\n",
       "4  1503960366 2016-04-12 04:00:00          0   2016-04-12     04:00:00"
      ]
     },
     "execution_count": 38,
     "metadata": {},
     "output_type": "execute_result"
    }
   ],
   "source": [
    "hourly_steps['ActivityDate'] = pd.to_datetime(hourly_calories['ActivityHour']).dt.date\n",
    "hourly_steps['ActivityTime'] = pd.to_datetime(hourly_calories['ActivityHour']).dt.time\n",
    "hourly_steps.head()"
   ]
  },
  {
   "cell_type": "markdown",
   "id": "3856da4e",
   "metadata": {
    "papermill": {
     "duration": 0.059942,
     "end_time": "2022-04-17T07:05:46.723260",
     "exception": false,
     "start_time": "2022-04-17T07:05:46.663318",
     "status": "completed"
    },
    "tags": []
   },
   "source": [
    "### **Deriving the week day name and number from date column**\n",
    "This will help us to track the users activities based on each day of a week,"
   ]
  },
  {
   "cell_type": "code",
   "execution_count": 39,
   "id": "27d702a1",
   "metadata": {
    "execution": {
     "iopub.execute_input": "2022-04-17T07:05:46.861310Z",
     "iopub.status.busy": "2022-04-17T07:05:46.849133Z",
     "iopub.status.idle": "2022-04-17T07:05:46.864763Z",
     "shell.execute_reply": "2022-04-17T07:05:46.864362Z",
     "shell.execute_reply.started": "2022-04-17T07:03:55.207974Z"
    },
    "papermill": {
     "duration": 0.081634,
     "end_time": "2022-04-17T07:05:46.864859",
     "exception": false,
     "start_time": "2022-04-17T07:05:46.783225",
     "status": "completed"
    },
    "tags": []
   },
   "outputs": [
    {
     "data": {
      "text/html": [
       "<div>\n",
       "<style scoped>\n",
       "    .dataframe tbody tr th:only-of-type {\n",
       "        vertical-align: middle;\n",
       "    }\n",
       "\n",
       "    .dataframe tbody tr th {\n",
       "        vertical-align: top;\n",
       "    }\n",
       "\n",
       "    .dataframe thead th {\n",
       "        text-align: right;\n",
       "    }\n",
       "</style>\n",
       "<table border=\"1\" class=\"dataframe\">\n",
       "  <thead>\n",
       "    <tr style=\"text-align: right;\">\n",
       "      <th></th>\n",
       "      <th>Id</th>\n",
       "      <th>ActivityDate</th>\n",
       "      <th>TotalSteps</th>\n",
       "      <th>TotalDistance</th>\n",
       "      <th>TrackerDistance</th>\n",
       "      <th>LoggedActivitiesDistance</th>\n",
       "      <th>VeryActiveDistance</th>\n",
       "      <th>ModeratelyActiveDistance</th>\n",
       "      <th>LightActiveDistance</th>\n",
       "      <th>SedentaryActiveDistance</th>\n",
       "      <th>VeryActiveMinutes</th>\n",
       "      <th>FairlyActiveMinutes</th>\n",
       "      <th>LightlyActiveMinutes</th>\n",
       "      <th>SedentaryMinutes</th>\n",
       "      <th>Calories</th>\n",
       "      <th>WeekDay</th>\n",
       "      <th>DayNum</th>\n",
       "    </tr>\n",
       "  </thead>\n",
       "  <tbody>\n",
       "    <tr>\n",
       "      <th>0</th>\n",
       "      <td>1503960366</td>\n",
       "      <td>2016-04-12</td>\n",
       "      <td>13162</td>\n",
       "      <td>8.50</td>\n",
       "      <td>8.50</td>\n",
       "      <td>0.0</td>\n",
       "      <td>1.88</td>\n",
       "      <td>0.55</td>\n",
       "      <td>6.06</td>\n",
       "      <td>0.0</td>\n",
       "      <td>25</td>\n",
       "      <td>13</td>\n",
       "      <td>328</td>\n",
       "      <td>728</td>\n",
       "      <td>1985</td>\n",
       "      <td>Tuesday</td>\n",
       "      <td>1</td>\n",
       "    </tr>\n",
       "    <tr>\n",
       "      <th>1</th>\n",
       "      <td>1503960366</td>\n",
       "      <td>2016-04-13</td>\n",
       "      <td>10735</td>\n",
       "      <td>6.97</td>\n",
       "      <td>6.97</td>\n",
       "      <td>0.0</td>\n",
       "      <td>1.57</td>\n",
       "      <td>0.69</td>\n",
       "      <td>4.71</td>\n",
       "      <td>0.0</td>\n",
       "      <td>21</td>\n",
       "      <td>19</td>\n",
       "      <td>217</td>\n",
       "      <td>776</td>\n",
       "      <td>1797</td>\n",
       "      <td>Wednesday</td>\n",
       "      <td>2</td>\n",
       "    </tr>\n",
       "    <tr>\n",
       "      <th>2</th>\n",
       "      <td>1503960366</td>\n",
       "      <td>2016-04-14</td>\n",
       "      <td>10460</td>\n",
       "      <td>6.74</td>\n",
       "      <td>6.74</td>\n",
       "      <td>0.0</td>\n",
       "      <td>2.44</td>\n",
       "      <td>0.40</td>\n",
       "      <td>3.91</td>\n",
       "      <td>0.0</td>\n",
       "      <td>30</td>\n",
       "      <td>11</td>\n",
       "      <td>181</td>\n",
       "      <td>1218</td>\n",
       "      <td>1776</td>\n",
       "      <td>Thursday</td>\n",
       "      <td>3</td>\n",
       "    </tr>\n",
       "    <tr>\n",
       "      <th>3</th>\n",
       "      <td>1503960366</td>\n",
       "      <td>2016-04-15</td>\n",
       "      <td>9762</td>\n",
       "      <td>6.28</td>\n",
       "      <td>6.28</td>\n",
       "      <td>0.0</td>\n",
       "      <td>2.14</td>\n",
       "      <td>1.26</td>\n",
       "      <td>2.83</td>\n",
       "      <td>0.0</td>\n",
       "      <td>29</td>\n",
       "      <td>34</td>\n",
       "      <td>209</td>\n",
       "      <td>726</td>\n",
       "      <td>1745</td>\n",
       "      <td>Friday</td>\n",
       "      <td>4</td>\n",
       "    </tr>\n",
       "    <tr>\n",
       "      <th>4</th>\n",
       "      <td>1503960366</td>\n",
       "      <td>2016-04-16</td>\n",
       "      <td>12669</td>\n",
       "      <td>8.16</td>\n",
       "      <td>8.16</td>\n",
       "      <td>0.0</td>\n",
       "      <td>2.71</td>\n",
       "      <td>0.41</td>\n",
       "      <td>5.04</td>\n",
       "      <td>0.0</td>\n",
       "      <td>36</td>\n",
       "      <td>10</td>\n",
       "      <td>221</td>\n",
       "      <td>773</td>\n",
       "      <td>1863</td>\n",
       "      <td>Saturday</td>\n",
       "      <td>5</td>\n",
       "    </tr>\n",
       "  </tbody>\n",
       "</table>\n",
       "</div>"
      ],
      "text/plain": [
       "           Id ActivityDate  TotalSteps  TotalDistance  TrackerDistance  \\\n",
       "0  1503960366   2016-04-12       13162           8.50             8.50   \n",
       "1  1503960366   2016-04-13       10735           6.97             6.97   \n",
       "2  1503960366   2016-04-14       10460           6.74             6.74   \n",
       "3  1503960366   2016-04-15        9762           6.28             6.28   \n",
       "4  1503960366   2016-04-16       12669           8.16             8.16   \n",
       "\n",
       "   LoggedActivitiesDistance  VeryActiveDistance  ModeratelyActiveDistance  \\\n",
       "0                       0.0                1.88                      0.55   \n",
       "1                       0.0                1.57                      0.69   \n",
       "2                       0.0                2.44                      0.40   \n",
       "3                       0.0                2.14                      1.26   \n",
       "4                       0.0                2.71                      0.41   \n",
       "\n",
       "   LightActiveDistance  SedentaryActiveDistance  VeryActiveMinutes  \\\n",
       "0                 6.06                      0.0                 25   \n",
       "1                 4.71                      0.0                 21   \n",
       "2                 3.91                      0.0                 30   \n",
       "3                 2.83                      0.0                 29   \n",
       "4                 5.04                      0.0                 36   \n",
       "\n",
       "   FairlyActiveMinutes  LightlyActiveMinutes  SedentaryMinutes  Calories  \\\n",
       "0                   13                   328               728      1985   \n",
       "1                   19                   217               776      1797   \n",
       "2                   11                   181              1218      1776   \n",
       "3                   34                   209               726      1745   \n",
       "4                   10                   221               773      1863   \n",
       "\n",
       "     WeekDay  DayNum  \n",
       "0    Tuesday       1  \n",
       "1  Wednesday       2  \n",
       "2   Thursday       3  \n",
       "3     Friday       4  \n",
       "4   Saturday       5  "
      ]
     },
     "execution_count": 39,
     "metadata": {},
     "output_type": "execute_result"
    }
   ],
   "source": [
    "daily_activities['WeekDay'] = daily_activities['ActivityDate'].dt.day_name()\n",
    "daily_activities['DayNum'] = daily_activities['ActivityDate'].dt.day_of_week\n",
    "daily_activities.head()"
   ]
  },
  {
   "cell_type": "markdown",
   "id": "26a892bf",
   "metadata": {
    "papermill": {
     "duration": 0.060583,
     "end_time": "2022-04-17T07:05:46.985904",
     "exception": false,
     "start_time": "2022-04-17T07:05:46.925321",
     "status": "completed"
    },
    "tags": []
   },
   "source": [
    "### **Merging the data**\n",
    "Merging the daily_activities dataframe with the sleep_day dataframe"
   ]
  },
  {
   "cell_type": "code",
   "execution_count": 40,
   "id": "e33008ac",
   "metadata": {
    "execution": {
     "iopub.execute_input": "2022-04-17T07:05:47.111951Z",
     "iopub.status.busy": "2022-04-17T07:05:47.111455Z",
     "iopub.status.idle": "2022-04-17T07:05:47.152014Z",
     "shell.execute_reply": "2022-04-17T07:05:47.152476Z",
     "shell.execute_reply.started": "2022-04-17T07:03:55.230958Z"
    },
    "papermill": {
     "duration": 0.105856,
     "end_time": "2022-04-17T07:05:47.152605",
     "exception": false,
     "start_time": "2022-04-17T07:05:47.046749",
     "status": "completed"
    },
    "tags": []
   },
   "outputs": [
    {
     "data": {
      "text/html": [
       "<div>\n",
       "<style scoped>\n",
       "    .dataframe tbody tr th:only-of-type {\n",
       "        vertical-align: middle;\n",
       "    }\n",
       "\n",
       "    .dataframe tbody tr th {\n",
       "        vertical-align: top;\n",
       "    }\n",
       "\n",
       "    .dataframe thead th {\n",
       "        text-align: right;\n",
       "    }\n",
       "</style>\n",
       "<table border=\"1\" class=\"dataframe\">\n",
       "  <thead>\n",
       "    <tr style=\"text-align: right;\">\n",
       "      <th></th>\n",
       "      <th>Id</th>\n",
       "      <th>ActivityDate</th>\n",
       "      <th>TotalSteps</th>\n",
       "      <th>TotalDistance</th>\n",
       "      <th>TrackerDistance</th>\n",
       "      <th>LoggedActivitiesDistance</th>\n",
       "      <th>VeryActiveDistance</th>\n",
       "      <th>ModeratelyActiveDistance</th>\n",
       "      <th>LightActiveDistance</th>\n",
       "      <th>SedentaryActiveDistance</th>\n",
       "      <th>...</th>\n",
       "      <th>FairlyActiveMinutes</th>\n",
       "      <th>LightlyActiveMinutes</th>\n",
       "      <th>SedentaryMinutes</th>\n",
       "      <th>Calories</th>\n",
       "      <th>WeekDay</th>\n",
       "      <th>DayNum</th>\n",
       "      <th>SleepDay</th>\n",
       "      <th>TotalSleepRecords</th>\n",
       "      <th>TotalMinutesAsleep</th>\n",
       "      <th>TotalTimeInBed</th>\n",
       "    </tr>\n",
       "  </thead>\n",
       "  <tbody>\n",
       "    <tr>\n",
       "      <th>0</th>\n",
       "      <td>1503960366</td>\n",
       "      <td>2016-04-12</td>\n",
       "      <td>13162</td>\n",
       "      <td>8.50</td>\n",
       "      <td>8.50</td>\n",
       "      <td>0.0</td>\n",
       "      <td>1.88</td>\n",
       "      <td>0.55</td>\n",
       "      <td>6.06</td>\n",
       "      <td>0.0</td>\n",
       "      <td>...</td>\n",
       "      <td>13</td>\n",
       "      <td>328</td>\n",
       "      <td>728</td>\n",
       "      <td>1985</td>\n",
       "      <td>Tuesday</td>\n",
       "      <td>1</td>\n",
       "      <td>2016-04-12</td>\n",
       "      <td>1</td>\n",
       "      <td>327</td>\n",
       "      <td>346</td>\n",
       "    </tr>\n",
       "    <tr>\n",
       "      <th>1</th>\n",
       "      <td>1503960366</td>\n",
       "      <td>2016-04-13</td>\n",
       "      <td>10735</td>\n",
       "      <td>6.97</td>\n",
       "      <td>6.97</td>\n",
       "      <td>0.0</td>\n",
       "      <td>1.57</td>\n",
       "      <td>0.69</td>\n",
       "      <td>4.71</td>\n",
       "      <td>0.0</td>\n",
       "      <td>...</td>\n",
       "      <td>19</td>\n",
       "      <td>217</td>\n",
       "      <td>776</td>\n",
       "      <td>1797</td>\n",
       "      <td>Wednesday</td>\n",
       "      <td>2</td>\n",
       "      <td>2016-04-13</td>\n",
       "      <td>2</td>\n",
       "      <td>384</td>\n",
       "      <td>407</td>\n",
       "    </tr>\n",
       "    <tr>\n",
       "      <th>2</th>\n",
       "      <td>1503960366</td>\n",
       "      <td>2016-04-15</td>\n",
       "      <td>9762</td>\n",
       "      <td>6.28</td>\n",
       "      <td>6.28</td>\n",
       "      <td>0.0</td>\n",
       "      <td>2.14</td>\n",
       "      <td>1.26</td>\n",
       "      <td>2.83</td>\n",
       "      <td>0.0</td>\n",
       "      <td>...</td>\n",
       "      <td>34</td>\n",
       "      <td>209</td>\n",
       "      <td>726</td>\n",
       "      <td>1745</td>\n",
       "      <td>Friday</td>\n",
       "      <td>4</td>\n",
       "      <td>2016-04-15</td>\n",
       "      <td>1</td>\n",
       "      <td>412</td>\n",
       "      <td>442</td>\n",
       "    </tr>\n",
       "    <tr>\n",
       "      <th>3</th>\n",
       "      <td>1503960366</td>\n",
       "      <td>2016-04-16</td>\n",
       "      <td>12669</td>\n",
       "      <td>8.16</td>\n",
       "      <td>8.16</td>\n",
       "      <td>0.0</td>\n",
       "      <td>2.71</td>\n",
       "      <td>0.41</td>\n",
       "      <td>5.04</td>\n",
       "      <td>0.0</td>\n",
       "      <td>...</td>\n",
       "      <td>10</td>\n",
       "      <td>221</td>\n",
       "      <td>773</td>\n",
       "      <td>1863</td>\n",
       "      <td>Saturday</td>\n",
       "      <td>5</td>\n",
       "      <td>2016-04-16</td>\n",
       "      <td>2</td>\n",
       "      <td>340</td>\n",
       "      <td>367</td>\n",
       "    </tr>\n",
       "    <tr>\n",
       "      <th>4</th>\n",
       "      <td>1503960366</td>\n",
       "      <td>2016-04-17</td>\n",
       "      <td>9705</td>\n",
       "      <td>6.48</td>\n",
       "      <td>6.48</td>\n",
       "      <td>0.0</td>\n",
       "      <td>3.19</td>\n",
       "      <td>0.78</td>\n",
       "      <td>2.51</td>\n",
       "      <td>0.0</td>\n",
       "      <td>...</td>\n",
       "      <td>20</td>\n",
       "      <td>164</td>\n",
       "      <td>539</td>\n",
       "      <td>1728</td>\n",
       "      <td>Sunday</td>\n",
       "      <td>6</td>\n",
       "      <td>2016-04-17</td>\n",
       "      <td>1</td>\n",
       "      <td>700</td>\n",
       "      <td>712</td>\n",
       "    </tr>\n",
       "  </tbody>\n",
       "</table>\n",
       "<p>5 rows × 21 columns</p>\n",
       "</div>"
      ],
      "text/plain": [
       "           Id ActivityDate  TotalSteps  TotalDistance  TrackerDistance  \\\n",
       "0  1503960366   2016-04-12       13162           8.50             8.50   \n",
       "1  1503960366   2016-04-13       10735           6.97             6.97   \n",
       "2  1503960366   2016-04-15        9762           6.28             6.28   \n",
       "3  1503960366   2016-04-16       12669           8.16             8.16   \n",
       "4  1503960366   2016-04-17        9705           6.48             6.48   \n",
       "\n",
       "   LoggedActivitiesDistance  VeryActiveDistance  ModeratelyActiveDistance  \\\n",
       "0                       0.0                1.88                      0.55   \n",
       "1                       0.0                1.57                      0.69   \n",
       "2                       0.0                2.14                      1.26   \n",
       "3                       0.0                2.71                      0.41   \n",
       "4                       0.0                3.19                      0.78   \n",
       "\n",
       "   LightActiveDistance  SedentaryActiveDistance  ...  FairlyActiveMinutes  \\\n",
       "0                 6.06                      0.0  ...                   13   \n",
       "1                 4.71                      0.0  ...                   19   \n",
       "2                 2.83                      0.0  ...                   34   \n",
       "3                 5.04                      0.0  ...                   10   \n",
       "4                 2.51                      0.0  ...                   20   \n",
       "\n",
       "   LightlyActiveMinutes  SedentaryMinutes  Calories    WeekDay DayNum  \\\n",
       "0                   328               728      1985    Tuesday      1   \n",
       "1                   217               776      1797  Wednesday      2   \n",
       "2                   209               726      1745     Friday      4   \n",
       "3                   221               773      1863   Saturday      5   \n",
       "4                   164               539      1728     Sunday      6   \n",
       "\n",
       "    SleepDay TotalSleepRecords  TotalMinutesAsleep  TotalTimeInBed  \n",
       "0 2016-04-12                 1                 327             346  \n",
       "1 2016-04-13                 2                 384             407  \n",
       "2 2016-04-15                 1                 412             442  \n",
       "3 2016-04-16                 2                 340             367  \n",
       "4 2016-04-17                 1                 700             712  \n",
       "\n",
       "[5 rows x 21 columns]"
      ]
     },
     "execution_count": 40,
     "metadata": {},
     "output_type": "execute_result"
    }
   ],
   "source": [
    "daily_activities_merged = pd.merge(daily_activities, sleep_day, left_on=['ActivityDate','Id'], right_on=['SleepDay','Id'], how='inner')\n",
    "daily_activities_merged.head()"
   ]
  },
  {
   "cell_type": "markdown",
   "id": "d5a3a1d6",
   "metadata": {
    "papermill": {
     "duration": 0.061653,
     "end_time": "2022-04-17T07:05:47.275857",
     "exception": false,
     "start_time": "2022-04-17T07:05:47.214204",
     "status": "completed"
    },
    "tags": []
   },
   "source": [
    "### **Description of the datasets using describe function**\n",
    "This function will describe about the mean, count, minimum and maximum values of each numerical column in the dataframe"
   ]
  },
  {
   "cell_type": "code",
   "execution_count": 41,
   "id": "e85bc016",
   "metadata": {
    "execution": {
     "iopub.execute_input": "2022-04-17T07:05:47.400656Z",
     "iopub.status.busy": "2022-04-17T07:05:47.400202Z",
     "iopub.status.idle": "2022-04-17T07:05:47.451999Z",
     "shell.execute_reply": "2022-04-17T07:05:47.452520Z",
     "shell.execute_reply.started": "2022-04-17T07:03:55.267428Z"
    },
    "papermill": {
     "duration": 0.115831,
     "end_time": "2022-04-17T07:05:47.452670",
     "exception": false,
     "start_time": "2022-04-17T07:05:47.336839",
     "status": "completed"
    },
    "tags": []
   },
   "outputs": [
    {
     "data": {
      "text/html": [
       "<div>\n",
       "<style scoped>\n",
       "    .dataframe tbody tr th:only-of-type {\n",
       "        vertical-align: middle;\n",
       "    }\n",
       "\n",
       "    .dataframe tbody tr th {\n",
       "        vertical-align: top;\n",
       "    }\n",
       "\n",
       "    .dataframe thead th {\n",
       "        text-align: right;\n",
       "    }\n",
       "</style>\n",
       "<table border=\"1\" class=\"dataframe\">\n",
       "  <thead>\n",
       "    <tr style=\"text-align: right;\">\n",
       "      <th></th>\n",
       "      <th>Id</th>\n",
       "      <th>TotalSteps</th>\n",
       "      <th>TotalDistance</th>\n",
       "      <th>TrackerDistance</th>\n",
       "      <th>LoggedActivitiesDistance</th>\n",
       "      <th>VeryActiveDistance</th>\n",
       "      <th>ModeratelyActiveDistance</th>\n",
       "      <th>LightActiveDistance</th>\n",
       "      <th>SedentaryActiveDistance</th>\n",
       "      <th>VeryActiveMinutes</th>\n",
       "      <th>FairlyActiveMinutes</th>\n",
       "      <th>LightlyActiveMinutes</th>\n",
       "      <th>SedentaryMinutes</th>\n",
       "      <th>Calories</th>\n",
       "      <th>DayNum</th>\n",
       "    </tr>\n",
       "  </thead>\n",
       "  <tbody>\n",
       "    <tr>\n",
       "      <th>count</th>\n",
       "      <td>9.400000e+02</td>\n",
       "      <td>940.000000</td>\n",
       "      <td>940.000000</td>\n",
       "      <td>940.000000</td>\n",
       "      <td>940.000000</td>\n",
       "      <td>940.000000</td>\n",
       "      <td>940.000000</td>\n",
       "      <td>940.000000</td>\n",
       "      <td>940.000000</td>\n",
       "      <td>940.000000</td>\n",
       "      <td>940.000000</td>\n",
       "      <td>940.000000</td>\n",
       "      <td>940.000000</td>\n",
       "      <td>940.000000</td>\n",
       "      <td>940.000000</td>\n",
       "    </tr>\n",
       "    <tr>\n",
       "      <th>mean</th>\n",
       "      <td>4.855407e+09</td>\n",
       "      <td>7637.910638</td>\n",
       "      <td>5.489702</td>\n",
       "      <td>5.475351</td>\n",
       "      <td>0.108171</td>\n",
       "      <td>1.502681</td>\n",
       "      <td>0.567543</td>\n",
       "      <td>3.340819</td>\n",
       "      <td>0.001606</td>\n",
       "      <td>21.164894</td>\n",
       "      <td>13.564894</td>\n",
       "      <td>192.812766</td>\n",
       "      <td>991.210638</td>\n",
       "      <td>2303.609574</td>\n",
       "      <td>2.918085</td>\n",
       "    </tr>\n",
       "    <tr>\n",
       "      <th>std</th>\n",
       "      <td>2.424805e+09</td>\n",
       "      <td>5087.150742</td>\n",
       "      <td>3.924606</td>\n",
       "      <td>3.907276</td>\n",
       "      <td>0.619897</td>\n",
       "      <td>2.658941</td>\n",
       "      <td>0.883580</td>\n",
       "      <td>2.040655</td>\n",
       "      <td>0.007346</td>\n",
       "      <td>32.844803</td>\n",
       "      <td>19.987404</td>\n",
       "      <td>109.174700</td>\n",
       "      <td>301.267437</td>\n",
       "      <td>718.166862</td>\n",
       "      <td>1.942379</td>\n",
       "    </tr>\n",
       "    <tr>\n",
       "      <th>min</th>\n",
       "      <td>1.503960e+09</td>\n",
       "      <td>0.000000</td>\n",
       "      <td>0.000000</td>\n",
       "      <td>0.000000</td>\n",
       "      <td>0.000000</td>\n",
       "      <td>0.000000</td>\n",
       "      <td>0.000000</td>\n",
       "      <td>0.000000</td>\n",
       "      <td>0.000000</td>\n",
       "      <td>0.000000</td>\n",
       "      <td>0.000000</td>\n",
       "      <td>0.000000</td>\n",
       "      <td>0.000000</td>\n",
       "      <td>0.000000</td>\n",
       "      <td>0.000000</td>\n",
       "    </tr>\n",
       "    <tr>\n",
       "      <th>25%</th>\n",
       "      <td>2.320127e+09</td>\n",
       "      <td>3789.750000</td>\n",
       "      <td>2.620000</td>\n",
       "      <td>2.620000</td>\n",
       "      <td>0.000000</td>\n",
       "      <td>0.000000</td>\n",
       "      <td>0.000000</td>\n",
       "      <td>1.945000</td>\n",
       "      <td>0.000000</td>\n",
       "      <td>0.000000</td>\n",
       "      <td>0.000000</td>\n",
       "      <td>127.000000</td>\n",
       "      <td>729.750000</td>\n",
       "      <td>1828.500000</td>\n",
       "      <td>1.000000</td>\n",
       "    </tr>\n",
       "    <tr>\n",
       "      <th>50%</th>\n",
       "      <td>4.445115e+09</td>\n",
       "      <td>7405.500000</td>\n",
       "      <td>5.245000</td>\n",
       "      <td>5.245000</td>\n",
       "      <td>0.000000</td>\n",
       "      <td>0.210000</td>\n",
       "      <td>0.240000</td>\n",
       "      <td>3.365000</td>\n",
       "      <td>0.000000</td>\n",
       "      <td>4.000000</td>\n",
       "      <td>6.000000</td>\n",
       "      <td>199.000000</td>\n",
       "      <td>1057.500000</td>\n",
       "      <td>2134.000000</td>\n",
       "      <td>3.000000</td>\n",
       "    </tr>\n",
       "    <tr>\n",
       "      <th>75%</th>\n",
       "      <td>6.962181e+09</td>\n",
       "      <td>10727.000000</td>\n",
       "      <td>7.712500</td>\n",
       "      <td>7.710000</td>\n",
       "      <td>0.000000</td>\n",
       "      <td>2.052500</td>\n",
       "      <td>0.800000</td>\n",
       "      <td>4.782500</td>\n",
       "      <td>0.000000</td>\n",
       "      <td>32.000000</td>\n",
       "      <td>19.000000</td>\n",
       "      <td>264.000000</td>\n",
       "      <td>1229.500000</td>\n",
       "      <td>2793.250000</td>\n",
       "      <td>5.000000</td>\n",
       "    </tr>\n",
       "    <tr>\n",
       "      <th>max</th>\n",
       "      <td>8.877689e+09</td>\n",
       "      <td>36019.000000</td>\n",
       "      <td>28.030001</td>\n",
       "      <td>28.030001</td>\n",
       "      <td>4.942142</td>\n",
       "      <td>21.920000</td>\n",
       "      <td>6.480000</td>\n",
       "      <td>10.710000</td>\n",
       "      <td>0.110000</td>\n",
       "      <td>210.000000</td>\n",
       "      <td>143.000000</td>\n",
       "      <td>518.000000</td>\n",
       "      <td>1440.000000</td>\n",
       "      <td>4900.000000</td>\n",
       "      <td>6.000000</td>\n",
       "    </tr>\n",
       "  </tbody>\n",
       "</table>\n",
       "</div>"
      ],
      "text/plain": [
       "                 Id    TotalSteps  TotalDistance  TrackerDistance  \\\n",
       "count  9.400000e+02    940.000000     940.000000       940.000000   \n",
       "mean   4.855407e+09   7637.910638       5.489702         5.475351   \n",
       "std    2.424805e+09   5087.150742       3.924606         3.907276   \n",
       "min    1.503960e+09      0.000000       0.000000         0.000000   \n",
       "25%    2.320127e+09   3789.750000       2.620000         2.620000   \n",
       "50%    4.445115e+09   7405.500000       5.245000         5.245000   \n",
       "75%    6.962181e+09  10727.000000       7.712500         7.710000   \n",
       "max    8.877689e+09  36019.000000      28.030001        28.030001   \n",
       "\n",
       "       LoggedActivitiesDistance  VeryActiveDistance  ModeratelyActiveDistance  \\\n",
       "count                940.000000          940.000000                940.000000   \n",
       "mean                   0.108171            1.502681                  0.567543   \n",
       "std                    0.619897            2.658941                  0.883580   \n",
       "min                    0.000000            0.000000                  0.000000   \n",
       "25%                    0.000000            0.000000                  0.000000   \n",
       "50%                    0.000000            0.210000                  0.240000   \n",
       "75%                    0.000000            2.052500                  0.800000   \n",
       "max                    4.942142           21.920000                  6.480000   \n",
       "\n",
       "       LightActiveDistance  SedentaryActiveDistance  VeryActiveMinutes  \\\n",
       "count           940.000000               940.000000         940.000000   \n",
       "mean              3.340819                 0.001606          21.164894   \n",
       "std               2.040655                 0.007346          32.844803   \n",
       "min               0.000000                 0.000000           0.000000   \n",
       "25%               1.945000                 0.000000           0.000000   \n",
       "50%               3.365000                 0.000000           4.000000   \n",
       "75%               4.782500                 0.000000          32.000000   \n",
       "max              10.710000                 0.110000         210.000000   \n",
       "\n",
       "       FairlyActiveMinutes  LightlyActiveMinutes  SedentaryMinutes  \\\n",
       "count           940.000000            940.000000        940.000000   \n",
       "mean             13.564894            192.812766        991.210638   \n",
       "std              19.987404            109.174700        301.267437   \n",
       "min               0.000000              0.000000          0.000000   \n",
       "25%               0.000000            127.000000        729.750000   \n",
       "50%               6.000000            199.000000       1057.500000   \n",
       "75%              19.000000            264.000000       1229.500000   \n",
       "max             143.000000            518.000000       1440.000000   \n",
       "\n",
       "          Calories      DayNum  \n",
       "count   940.000000  940.000000  \n",
       "mean   2303.609574    2.918085  \n",
       "std     718.166862    1.942379  \n",
       "min       0.000000    0.000000  \n",
       "25%    1828.500000    1.000000  \n",
       "50%    2134.000000    3.000000  \n",
       "75%    2793.250000    5.000000  \n",
       "max    4900.000000    6.000000  "
      ]
     },
     "execution_count": 41,
     "metadata": {},
     "output_type": "execute_result"
    }
   ],
   "source": [
    "daily_activities.describe()"
   ]
  },
  {
   "cell_type": "code",
   "execution_count": 42,
   "id": "4e8b96a5",
   "metadata": {
    "execution": {
     "iopub.execute_input": "2022-04-17T07:05:47.586531Z",
     "iopub.status.busy": "2022-04-17T07:05:47.586019Z",
     "iopub.status.idle": "2022-04-17T07:05:47.604622Z",
     "shell.execute_reply": "2022-04-17T07:05:47.605031Z",
     "shell.execute_reply.started": "2022-04-17T07:03:55.316820Z"
    },
    "papermill": {
     "duration": 0.085619,
     "end_time": "2022-04-17T07:05:47.605172",
     "exception": false,
     "start_time": "2022-04-17T07:05:47.519553",
     "status": "completed"
    },
    "tags": []
   },
   "outputs": [
    {
     "data": {
      "text/html": [
       "<div>\n",
       "<style scoped>\n",
       "    .dataframe tbody tr th:only-of-type {\n",
       "        vertical-align: middle;\n",
       "    }\n",
       "\n",
       "    .dataframe tbody tr th {\n",
       "        vertical-align: top;\n",
       "    }\n",
       "\n",
       "    .dataframe thead th {\n",
       "        text-align: right;\n",
       "    }\n",
       "</style>\n",
       "<table border=\"1\" class=\"dataframe\">\n",
       "  <thead>\n",
       "    <tr style=\"text-align: right;\">\n",
       "      <th></th>\n",
       "      <th>Id</th>\n",
       "      <th>TotalSleepRecords</th>\n",
       "      <th>TotalMinutesAsleep</th>\n",
       "      <th>TotalTimeInBed</th>\n",
       "    </tr>\n",
       "  </thead>\n",
       "  <tbody>\n",
       "    <tr>\n",
       "      <th>count</th>\n",
       "      <td>4.130000e+02</td>\n",
       "      <td>413.000000</td>\n",
       "      <td>413.000000</td>\n",
       "      <td>413.000000</td>\n",
       "    </tr>\n",
       "    <tr>\n",
       "      <th>mean</th>\n",
       "      <td>5.000979e+09</td>\n",
       "      <td>1.118644</td>\n",
       "      <td>419.467312</td>\n",
       "      <td>458.639225</td>\n",
       "    </tr>\n",
       "    <tr>\n",
       "      <th>std</th>\n",
       "      <td>2.060360e+09</td>\n",
       "      <td>0.345521</td>\n",
       "      <td>118.344679</td>\n",
       "      <td>127.101607</td>\n",
       "    </tr>\n",
       "    <tr>\n",
       "      <th>min</th>\n",
       "      <td>1.503960e+09</td>\n",
       "      <td>1.000000</td>\n",
       "      <td>58.000000</td>\n",
       "      <td>61.000000</td>\n",
       "    </tr>\n",
       "    <tr>\n",
       "      <th>25%</th>\n",
       "      <td>3.977334e+09</td>\n",
       "      <td>1.000000</td>\n",
       "      <td>361.000000</td>\n",
       "      <td>403.000000</td>\n",
       "    </tr>\n",
       "    <tr>\n",
       "      <th>50%</th>\n",
       "      <td>4.702922e+09</td>\n",
       "      <td>1.000000</td>\n",
       "      <td>433.000000</td>\n",
       "      <td>463.000000</td>\n",
       "    </tr>\n",
       "    <tr>\n",
       "      <th>75%</th>\n",
       "      <td>6.962181e+09</td>\n",
       "      <td>1.000000</td>\n",
       "      <td>490.000000</td>\n",
       "      <td>526.000000</td>\n",
       "    </tr>\n",
       "    <tr>\n",
       "      <th>max</th>\n",
       "      <td>8.792010e+09</td>\n",
       "      <td>3.000000</td>\n",
       "      <td>796.000000</td>\n",
       "      <td>961.000000</td>\n",
       "    </tr>\n",
       "  </tbody>\n",
       "</table>\n",
       "</div>"
      ],
      "text/plain": [
       "                 Id  TotalSleepRecords  TotalMinutesAsleep  TotalTimeInBed\n",
       "count  4.130000e+02         413.000000          413.000000      413.000000\n",
       "mean   5.000979e+09           1.118644          419.467312      458.639225\n",
       "std    2.060360e+09           0.345521          118.344679      127.101607\n",
       "min    1.503960e+09           1.000000           58.000000       61.000000\n",
       "25%    3.977334e+09           1.000000          361.000000      403.000000\n",
       "50%    4.702922e+09           1.000000          433.000000      463.000000\n",
       "75%    6.962181e+09           1.000000          490.000000      526.000000\n",
       "max    8.792010e+09           3.000000          796.000000      961.000000"
      ]
     },
     "execution_count": 42,
     "metadata": {},
     "output_type": "execute_result"
    }
   ],
   "source": [
    "sleep_day.describe()"
   ]
  },
  {
   "cell_type": "code",
   "execution_count": 43,
   "id": "24215dfe",
   "metadata": {
    "execution": {
     "iopub.execute_input": "2022-04-17T07:05:47.744020Z",
     "iopub.status.busy": "2022-04-17T07:05:47.736770Z",
     "iopub.status.idle": "2022-04-17T07:05:47.761969Z",
     "shell.execute_reply": "2022-04-17T07:05:47.762366Z",
     "shell.execute_reply.started": "2022-04-17T07:03:55.338219Z"
    },
    "papermill": {
     "duration": 0.092984,
     "end_time": "2022-04-17T07:05:47.762516",
     "exception": false,
     "start_time": "2022-04-17T07:05:47.669532",
     "status": "completed"
    },
    "tags": []
   },
   "outputs": [
    {
     "data": {
      "text/html": [
       "<div>\n",
       "<style scoped>\n",
       "    .dataframe tbody tr th:only-of-type {\n",
       "        vertical-align: middle;\n",
       "    }\n",
       "\n",
       "    .dataframe tbody tr th {\n",
       "        vertical-align: top;\n",
       "    }\n",
       "\n",
       "    .dataframe thead th {\n",
       "        text-align: right;\n",
       "    }\n",
       "</style>\n",
       "<table border=\"1\" class=\"dataframe\">\n",
       "  <thead>\n",
       "    <tr style=\"text-align: right;\">\n",
       "      <th></th>\n",
       "      <th>Id</th>\n",
       "      <th>WeightKg</th>\n",
       "      <th>WeightPounds</th>\n",
       "      <th>BMI</th>\n",
       "      <th>LogId</th>\n",
       "    </tr>\n",
       "  </thead>\n",
       "  <tbody>\n",
       "    <tr>\n",
       "      <th>count</th>\n",
       "      <td>6.700000e+01</td>\n",
       "      <td>67.000000</td>\n",
       "      <td>67.000000</td>\n",
       "      <td>67.000000</td>\n",
       "      <td>6.700000e+01</td>\n",
       "    </tr>\n",
       "    <tr>\n",
       "      <th>mean</th>\n",
       "      <td>7.009282e+09</td>\n",
       "      <td>72.035821</td>\n",
       "      <td>158.811801</td>\n",
       "      <td>25.185224</td>\n",
       "      <td>1.461772e+12</td>\n",
       "    </tr>\n",
       "    <tr>\n",
       "      <th>std</th>\n",
       "      <td>1.950322e+09</td>\n",
       "      <td>13.923206</td>\n",
       "      <td>30.695415</td>\n",
       "      <td>3.066963</td>\n",
       "      <td>7.829948e+08</td>\n",
       "    </tr>\n",
       "    <tr>\n",
       "      <th>min</th>\n",
       "      <td>1.503960e+09</td>\n",
       "      <td>52.599998</td>\n",
       "      <td>115.963147</td>\n",
       "      <td>21.450001</td>\n",
       "      <td>1.460444e+12</td>\n",
       "    </tr>\n",
       "    <tr>\n",
       "      <th>25%</th>\n",
       "      <td>6.962181e+09</td>\n",
       "      <td>61.400002</td>\n",
       "      <td>135.363832</td>\n",
       "      <td>23.959999</td>\n",
       "      <td>1.461079e+12</td>\n",
       "    </tr>\n",
       "    <tr>\n",
       "      <th>50%</th>\n",
       "      <td>6.962181e+09</td>\n",
       "      <td>62.500000</td>\n",
       "      <td>137.788914</td>\n",
       "      <td>24.389999</td>\n",
       "      <td>1.461802e+12</td>\n",
       "    </tr>\n",
       "    <tr>\n",
       "      <th>75%</th>\n",
       "      <td>8.877689e+09</td>\n",
       "      <td>85.049999</td>\n",
       "      <td>187.503152</td>\n",
       "      <td>25.559999</td>\n",
       "      <td>1.462375e+12</td>\n",
       "    </tr>\n",
       "    <tr>\n",
       "      <th>max</th>\n",
       "      <td>8.877689e+09</td>\n",
       "      <td>133.500000</td>\n",
       "      <td>294.317120</td>\n",
       "      <td>47.540001</td>\n",
       "      <td>1.463098e+12</td>\n",
       "    </tr>\n",
       "  </tbody>\n",
       "</table>\n",
       "</div>"
      ],
      "text/plain": [
       "                 Id    WeightKg  WeightPounds        BMI         LogId\n",
       "count  6.700000e+01   67.000000     67.000000  67.000000  6.700000e+01\n",
       "mean   7.009282e+09   72.035821    158.811801  25.185224  1.461772e+12\n",
       "std    1.950322e+09   13.923206     30.695415   3.066963  7.829948e+08\n",
       "min    1.503960e+09   52.599998    115.963147  21.450001  1.460444e+12\n",
       "25%    6.962181e+09   61.400002    135.363832  23.959999  1.461079e+12\n",
       "50%    6.962181e+09   62.500000    137.788914  24.389999  1.461802e+12\n",
       "75%    8.877689e+09   85.049999    187.503152  25.559999  1.462375e+12\n",
       "max    8.877689e+09  133.500000    294.317120  47.540001  1.463098e+12"
      ]
     },
     "execution_count": 43,
     "metadata": {},
     "output_type": "execute_result"
    }
   ],
   "source": [
    "weight_log.describe()"
   ]
  },
  {
   "cell_type": "code",
   "execution_count": 44,
   "id": "57d6f52c",
   "metadata": {
    "execution": {
     "iopub.execute_input": "2022-04-17T07:05:47.890190Z",
     "iopub.status.busy": "2022-04-17T07:05:47.889443Z",
     "iopub.status.idle": "2022-04-17T07:05:47.913767Z",
     "shell.execute_reply": "2022-04-17T07:05:47.914237Z",
     "shell.execute_reply.started": "2022-04-17T07:03:55.365005Z"
    },
    "papermill": {
     "duration": 0.089405,
     "end_time": "2022-04-17T07:05:47.914441",
     "exception": false,
     "start_time": "2022-04-17T07:05:47.825036",
     "status": "completed"
    },
    "tags": []
   },
   "outputs": [
    {
     "data": {
      "text/html": [
       "<div>\n",
       "<style scoped>\n",
       "    .dataframe tbody tr th:only-of-type {\n",
       "        vertical-align: middle;\n",
       "    }\n",
       "\n",
       "    .dataframe tbody tr th {\n",
       "        vertical-align: top;\n",
       "    }\n",
       "\n",
       "    .dataframe thead th {\n",
       "        text-align: right;\n",
       "    }\n",
       "</style>\n",
       "<table border=\"1\" class=\"dataframe\">\n",
       "  <thead>\n",
       "    <tr style=\"text-align: right;\">\n",
       "      <th></th>\n",
       "      <th>Id</th>\n",
       "      <th>TotalIntensity</th>\n",
       "      <th>AverageIntensity</th>\n",
       "    </tr>\n",
       "  </thead>\n",
       "  <tbody>\n",
       "    <tr>\n",
       "      <th>count</th>\n",
       "      <td>2.209900e+04</td>\n",
       "      <td>22099.000000</td>\n",
       "      <td>22099.000000</td>\n",
       "    </tr>\n",
       "    <tr>\n",
       "      <th>mean</th>\n",
       "      <td>4.848235e+09</td>\n",
       "      <td>12.035341</td>\n",
       "      <td>0.200589</td>\n",
       "    </tr>\n",
       "    <tr>\n",
       "      <th>std</th>\n",
       "      <td>2.422500e+09</td>\n",
       "      <td>21.133110</td>\n",
       "      <td>0.352219</td>\n",
       "    </tr>\n",
       "    <tr>\n",
       "      <th>min</th>\n",
       "      <td>1.503960e+09</td>\n",
       "      <td>0.000000</td>\n",
       "      <td>0.000000</td>\n",
       "    </tr>\n",
       "    <tr>\n",
       "      <th>25%</th>\n",
       "      <td>2.320127e+09</td>\n",
       "      <td>0.000000</td>\n",
       "      <td>0.000000</td>\n",
       "    </tr>\n",
       "    <tr>\n",
       "      <th>50%</th>\n",
       "      <td>4.445115e+09</td>\n",
       "      <td>3.000000</td>\n",
       "      <td>0.050000</td>\n",
       "    </tr>\n",
       "    <tr>\n",
       "      <th>75%</th>\n",
       "      <td>6.962181e+09</td>\n",
       "      <td>16.000000</td>\n",
       "      <td>0.266667</td>\n",
       "    </tr>\n",
       "    <tr>\n",
       "      <th>max</th>\n",
       "      <td>8.877689e+09</td>\n",
       "      <td>180.000000</td>\n",
       "      <td>3.000000</td>\n",
       "    </tr>\n",
       "  </tbody>\n",
       "</table>\n",
       "</div>"
      ],
      "text/plain": [
       "                 Id  TotalIntensity  AverageIntensity\n",
       "count  2.209900e+04    22099.000000      22099.000000\n",
       "mean   4.848235e+09       12.035341          0.200589\n",
       "std    2.422500e+09       21.133110          0.352219\n",
       "min    1.503960e+09        0.000000          0.000000\n",
       "25%    2.320127e+09        0.000000          0.000000\n",
       "50%    4.445115e+09        3.000000          0.050000\n",
       "75%    6.962181e+09       16.000000          0.266667\n",
       "max    8.877689e+09      180.000000          3.000000"
      ]
     },
     "execution_count": 44,
     "metadata": {},
     "output_type": "execute_result"
    }
   ],
   "source": [
    "hourly_intensities.describe()"
   ]
  },
  {
   "cell_type": "code",
   "execution_count": 45,
   "id": "9400eee2",
   "metadata": {
    "execution": {
     "iopub.execute_input": "2022-04-17T07:05:48.061404Z",
     "iopub.status.busy": "2022-04-17T07:05:48.060627Z",
     "iopub.status.idle": "2022-04-17T07:05:48.074019Z",
     "shell.execute_reply": "2022-04-17T07:05:48.074554Z",
     "shell.execute_reply.started": "2022-04-17T07:03:55.389049Z"
    },
    "papermill": {
     "duration": 0.085451,
     "end_time": "2022-04-17T07:05:48.074680",
     "exception": false,
     "start_time": "2022-04-17T07:05:47.989229",
     "status": "completed"
    },
    "tags": []
   },
   "outputs": [
    {
     "data": {
      "text/html": [
       "<div>\n",
       "<style scoped>\n",
       "    .dataframe tbody tr th:only-of-type {\n",
       "        vertical-align: middle;\n",
       "    }\n",
       "\n",
       "    .dataframe tbody tr th {\n",
       "        vertical-align: top;\n",
       "    }\n",
       "\n",
       "    .dataframe thead th {\n",
       "        text-align: right;\n",
       "    }\n",
       "</style>\n",
       "<table border=\"1\" class=\"dataframe\">\n",
       "  <thead>\n",
       "    <tr style=\"text-align: right;\">\n",
       "      <th></th>\n",
       "      <th>Id</th>\n",
       "      <th>Calories</th>\n",
       "    </tr>\n",
       "  </thead>\n",
       "  <tbody>\n",
       "    <tr>\n",
       "      <th>count</th>\n",
       "      <td>2.209900e+04</td>\n",
       "      <td>22099.000000</td>\n",
       "    </tr>\n",
       "    <tr>\n",
       "      <th>mean</th>\n",
       "      <td>4.848235e+09</td>\n",
       "      <td>97.386760</td>\n",
       "    </tr>\n",
       "    <tr>\n",
       "      <th>std</th>\n",
       "      <td>2.422500e+09</td>\n",
       "      <td>60.702622</td>\n",
       "    </tr>\n",
       "    <tr>\n",
       "      <th>min</th>\n",
       "      <td>1.503960e+09</td>\n",
       "      <td>42.000000</td>\n",
       "    </tr>\n",
       "    <tr>\n",
       "      <th>25%</th>\n",
       "      <td>2.320127e+09</td>\n",
       "      <td>63.000000</td>\n",
       "    </tr>\n",
       "    <tr>\n",
       "      <th>50%</th>\n",
       "      <td>4.445115e+09</td>\n",
       "      <td>83.000000</td>\n",
       "    </tr>\n",
       "    <tr>\n",
       "      <th>75%</th>\n",
       "      <td>6.962181e+09</td>\n",
       "      <td>108.000000</td>\n",
       "    </tr>\n",
       "    <tr>\n",
       "      <th>max</th>\n",
       "      <td>8.877689e+09</td>\n",
       "      <td>948.000000</td>\n",
       "    </tr>\n",
       "  </tbody>\n",
       "</table>\n",
       "</div>"
      ],
      "text/plain": [
       "                 Id      Calories\n",
       "count  2.209900e+04  22099.000000\n",
       "mean   4.848235e+09     97.386760\n",
       "std    2.422500e+09     60.702622\n",
       "min    1.503960e+09     42.000000\n",
       "25%    2.320127e+09     63.000000\n",
       "50%    4.445115e+09     83.000000\n",
       "75%    6.962181e+09    108.000000\n",
       "max    8.877689e+09    948.000000"
      ]
     },
     "execution_count": 45,
     "metadata": {},
     "output_type": "execute_result"
    }
   ],
   "source": [
    "hourly_calories.describe()"
   ]
  },
  {
   "cell_type": "code",
   "execution_count": 46,
   "id": "a3599a6c",
   "metadata": {
    "execution": {
     "iopub.execute_input": "2022-04-17T07:05:48.211370Z",
     "iopub.status.busy": "2022-04-17T07:05:48.210873Z",
     "iopub.status.idle": "2022-04-17T07:05:48.224110Z",
     "shell.execute_reply": "2022-04-17T07:05:48.223708Z",
     "shell.execute_reply.started": "2022-04-17T07:03:55.406752Z"
    },
    "papermill": {
     "duration": 0.085236,
     "end_time": "2022-04-17T07:05:48.224255",
     "exception": false,
     "start_time": "2022-04-17T07:05:48.139019",
     "status": "completed"
    },
    "tags": []
   },
   "outputs": [
    {
     "data": {
      "text/html": [
       "<div>\n",
       "<style scoped>\n",
       "    .dataframe tbody tr th:only-of-type {\n",
       "        vertical-align: middle;\n",
       "    }\n",
       "\n",
       "    .dataframe tbody tr th {\n",
       "        vertical-align: top;\n",
       "    }\n",
       "\n",
       "    .dataframe thead th {\n",
       "        text-align: right;\n",
       "    }\n",
       "</style>\n",
       "<table border=\"1\" class=\"dataframe\">\n",
       "  <thead>\n",
       "    <tr style=\"text-align: right;\">\n",
       "      <th></th>\n",
       "      <th>Id</th>\n",
       "      <th>StepTotal</th>\n",
       "    </tr>\n",
       "  </thead>\n",
       "  <tbody>\n",
       "    <tr>\n",
       "      <th>count</th>\n",
       "      <td>2.209900e+04</td>\n",
       "      <td>22099.000000</td>\n",
       "    </tr>\n",
       "    <tr>\n",
       "      <th>mean</th>\n",
       "      <td>4.848235e+09</td>\n",
       "      <td>320.166342</td>\n",
       "    </tr>\n",
       "    <tr>\n",
       "      <th>std</th>\n",
       "      <td>2.422500e+09</td>\n",
       "      <td>690.384228</td>\n",
       "    </tr>\n",
       "    <tr>\n",
       "      <th>min</th>\n",
       "      <td>1.503960e+09</td>\n",
       "      <td>0.000000</td>\n",
       "    </tr>\n",
       "    <tr>\n",
       "      <th>25%</th>\n",
       "      <td>2.320127e+09</td>\n",
       "      <td>0.000000</td>\n",
       "    </tr>\n",
       "    <tr>\n",
       "      <th>50%</th>\n",
       "      <td>4.445115e+09</td>\n",
       "      <td>40.000000</td>\n",
       "    </tr>\n",
       "    <tr>\n",
       "      <th>75%</th>\n",
       "      <td>6.962181e+09</td>\n",
       "      <td>357.000000</td>\n",
       "    </tr>\n",
       "    <tr>\n",
       "      <th>max</th>\n",
       "      <td>8.877689e+09</td>\n",
       "      <td>10554.000000</td>\n",
       "    </tr>\n",
       "  </tbody>\n",
       "</table>\n",
       "</div>"
      ],
      "text/plain": [
       "                 Id     StepTotal\n",
       "count  2.209900e+04  22099.000000\n",
       "mean   4.848235e+09    320.166342\n",
       "std    2.422500e+09    690.384228\n",
       "min    1.503960e+09      0.000000\n",
       "25%    2.320127e+09      0.000000\n",
       "50%    4.445115e+09     40.000000\n",
       "75%    6.962181e+09    357.000000\n",
       "max    8.877689e+09  10554.000000"
      ]
     },
     "execution_count": 46,
     "metadata": {},
     "output_type": "execute_result"
    }
   ],
   "source": [
    "hourly_steps.describe()"
   ]
  },
  {
   "cell_type": "markdown",
   "id": "1b1789fe",
   "metadata": {
    "papermill": {
     "duration": 0.063492,
     "end_time": "2022-04-17T07:05:48.353516",
     "exception": false,
     "start_time": "2022-04-17T07:05:48.290024",
     "status": "completed"
    },
    "tags": []
   },
   "source": [
    "### **Observation from the describe function**\n",
    "\n",
    "* On an average the customers are lightly active for about 193 minutes (3 hr) which could be one of the factors we need to look.\n",
    "* On an average the cusotmers are sedenatary for about 991 minutes (16.5 hr) which could be turned into active hours.\n",
    "* The average steps taken by the customers are about 7637  and the average distance covered is bout 5.5 kilometres which could be increased.\n",
    "* The average calories burned is about 2300 which is also one of the factor to look upon.\n",
    "* The average BMI is 25.1 which is just a bit over the normal range.\n",
    "* The average sleep time is about 6.9 hrs and the average bed time is about 7.6 hrs. \n",
    "\n",
    "\n",
    "\n",
    "\n"
   ]
  },
  {
   "cell_type": "markdown",
   "id": "23ccee78",
   "metadata": {
    "papermill": {
     "duration": 0.064546,
     "end_time": "2022-04-17T07:05:48.481741",
     "exception": false,
     "start_time": "2022-04-17T07:05:48.417195",
     "status": "completed"
    },
    "tags": []
   },
   "source": [
    "### **Creating visualizations**\n",
    "We will create plots to observe the data visually and draw conclusion from the data."
   ]
  },
  {
   "cell_type": "markdown",
   "id": "8a764e9e",
   "metadata": {
    "papermill": {
     "duration": 0.064627,
     "end_time": "2022-04-17T07:05:48.611449",
     "exception": false,
     "start_time": "2022-04-17T07:05:48.546822",
     "status": "completed"
    },
    "tags": []
   },
   "source": [
    "### **Lightly active minutes by day**\n",
    "We will plot a graph to observe how the users are lightly active on each day of week"
   ]
  },
  {
   "cell_type": "code",
   "execution_count": 47,
   "id": "a79a8264",
   "metadata": {
    "execution": {
     "iopub.execute_input": "2022-04-17T07:05:48.784047Z",
     "iopub.status.busy": "2022-04-17T07:05:48.783150Z",
     "iopub.status.idle": "2022-04-17T07:05:49.164404Z",
     "shell.execute_reply": "2022-04-17T07:05:49.163883Z",
     "shell.execute_reply.started": "2022-04-17T07:03:55.424521Z"
    },
    "papermill": {
     "duration": 0.485983,
     "end_time": "2022-04-17T07:05:49.164530",
     "exception": false,
     "start_time": "2022-04-17T07:05:48.678547",
     "status": "completed"
    },
    "tags": []
   },
   "outputs": [
    {
     "data": {
      "image/png": "[encoded data removed]",
      "text/plain": [
       "<Figure size 432x288 with 1 Axes>"
      ]
     },
     "metadata": {
      "needs_background": "light"
     },
     "output_type": "display_data"
    }
   ],
   "source": [
    "daily_activities_merged[['LightlyActiveMinutes', 'WeekDay', 'DayNum']].groupby(['DayNum', 'WeekDay']).mean().sort_index().plot(kind='bar', legend=None)\n",
    "plt.title('lightly active minutes by day')\n",
    "plt.xlabel('Week Day')\n",
    "plt.ylabel('Lightly active minutes')\n",
    "plt.xticks(rotation=45)\n",
    "plt.show()"
   ]
  },
  {
   "cell_type": "markdown",
   "id": "694d13b2",
   "metadata": {
    "papermill": {
     "duration": 0.099074,
     "end_time": "2022-04-17T07:05:49.363159",
     "exception": false,
     "start_time": "2022-04-17T07:05:49.264085",
     "status": "completed"
    },
    "tags": []
   },
   "source": [
    "### **Total minutes asleep vs Sedentary minutes**\n",
    "We will create a graph to observe the total minutes asleep vs the sedentary minutes."
   ]
  },
  {
   "cell_type": "code",
   "execution_count": 48,
   "id": "558c5a3a",
   "metadata": {
    "execution": {
     "iopub.execute_input": "2022-04-17T07:05:49.565438Z",
     "iopub.status.busy": "2022-04-17T07:05:49.564815Z",
     "iopub.status.idle": "2022-04-17T07:05:49.917981Z",
     "shell.execute_reply": "2022-04-17T07:05:49.918620Z",
     "shell.execute_reply.started": "2022-04-17T07:03:55.630639Z"
    },
    "papermill": {
     "duration": 0.455183,
     "end_time": "2022-04-17T07:05:49.918775",
     "exception": false,
     "start_time": "2022-04-17T07:05:49.463592",
     "status": "completed"
    },
    "tags": []
   },
   "outputs": [
    {
     "data": {
      "text/plain": [
       "Text(0.5, 1.0, 'Total minutes asleep vs Sedentary minutes')"
      ]
     },
     "execution_count": 48,
     "metadata": {},
     "output_type": "execute_result"
    },
    {
     "data": {
      "image/png": "[encoded data removed]",
      "text/plain": [
       "<Figure size 432x288 with 1 Axes>"
      ]
     },
     "metadata": {
      "needs_background": "light"
     },
     "output_type": "display_data"
    }
   ],
   "source": [
    "sns.regplot(x= daily_activities_merged['TotalMinutesAsleep'], y= daily_activities_merged['SedentaryMinutes'])\n",
    "plt.title('Total minutes asleep vs Sedentary minutes')"
   ]
  },
  {
   "cell_type": "markdown",
   "id": "a01132a9",
   "metadata": {
    "papermill": {
     "duration": 0.100345,
     "end_time": "2022-04-17T07:05:50.119380",
     "exception": false,
     "start_time": "2022-04-17T07:05:50.019035",
     "status": "completed"
    },
    "tags": []
   },
   "source": [
    "### **Total steps vs calories burned**\n",
    "We will plot a chart to observe the relationship between total steps vs calories burned by users"
   ]
  },
  {
   "cell_type": "code",
   "execution_count": 49,
   "id": "2d12aeef",
   "metadata": {
    "execution": {
     "iopub.execute_input": "2022-04-17T07:05:50.325685Z",
     "iopub.status.busy": "2022-04-17T07:05:50.325085Z",
     "iopub.status.idle": "2022-04-17T07:05:50.600315Z",
     "shell.execute_reply": "2022-04-17T07:05:50.599809Z",
     "shell.execute_reply.started": "2022-04-17T07:03:55.983967Z"
    },
    "papermill": {
     "duration": 0.380244,
     "end_time": "2022-04-17T07:05:50.600437",
     "exception": false,
     "start_time": "2022-04-17T07:05:50.220193",
     "status": "completed"
    },
    "tags": []
   },
   "outputs": [
    {
     "data": {
      "text/plain": [
       "Text(0.5, 1.0, 'Total Steps vs calories burned')"
      ]
     },
     "execution_count": 49,
     "metadata": {},
     "output_type": "execute_result"
    },
    {
     "data": {
      "image/png": "[encoded data removed]",
      "text/plain": [
       "<Figure size 432x288 with 1 Axes>"
      ]
     },
     "metadata": {
      "needs_background": "light"
     },
     "output_type": "display_data"
    }
   ],
   "source": [
    "sns.regplot(x = daily_activities_merged['TotalSteps'], y= daily_activities_merged['Calories'])\n",
    "plt.title('Total Steps vs calories burned')"
   ]
  },
  {
   "cell_type": "markdown",
   "id": "3f3bb031",
   "metadata": {
    "papermill": {
     "duration": 0.101706,
     "end_time": "2022-04-17T07:05:50.804899",
     "exception": false,
     "start_time": "2022-04-17T07:05:50.703193",
     "status": "completed"
    },
    "tags": []
   },
   "source": [
    "### **Total Distance vs Week Day**\n",
    "We will plot a chart to observe total distance covered in each day of week"
   ]
  },
  {
   "cell_type": "code",
   "execution_count": 50,
   "id": "ebff4ae6",
   "metadata": {
    "execution": {
     "iopub.execute_input": "2022-04-17T07:05:51.025180Z",
     "iopub.status.busy": "2022-04-17T07:05:51.018044Z",
     "iopub.status.idle": "2022-04-17T07:05:51.205549Z",
     "shell.execute_reply": "2022-04-17T07:05:51.204996Z",
     "shell.execute_reply.started": "2022-04-17T07:03:56.451322Z"
    },
    "papermill": {
     "duration": 0.296921,
     "end_time": "2022-04-17T07:05:51.205672",
     "exception": false,
     "start_time": "2022-04-17T07:05:50.908751",
     "status": "completed"
    },
    "tags": []
   },
   "outputs": [
    {
     "data": {
      "image/png": "[encoded data removed]",
      "text/plain": [
       "<Figure size 432x288 with 1 Axes>"
      ]
     },
     "metadata": {
      "needs_background": "light"
     },
     "output_type": "display_data"
    }
   ],
   "source": [
    "daily_activities_merged[['TotalDistance', 'WeekDay', 'DayNum']].groupby(['DayNum', 'WeekDay']).mean().sort_index().plot(kind='bar', legend=None)\n",
    "plt.xticks(rotation=45)\n",
    "plt.title('Total Distance vs Week Day')\n",
    "plt.xlabel('Week Day')\n",
    "plt.ylabel('Total distance')\n",
    "plt.show()"
   ]
  },
  {
   "cell_type": "markdown",
   "id": "dccaddb4",
   "metadata": {
    "papermill": {
     "duration": 0.103569,
     "end_time": "2022-04-17T07:05:51.412702",
     "exception": false,
     "start_time": "2022-04-17T07:05:51.309133",
     "status": "completed"
    },
    "tags": []
   },
   "source": [
    "### **Total Minutes Asleep vs Total time in bed**\n",
    "We will plot a chart to observe the relationship between total minutes asleep vs total time in bed"
   ]
  },
  {
   "cell_type": "code",
   "execution_count": 51,
   "id": "9d2150da",
   "metadata": {
    "execution": {
     "iopub.execute_input": "2022-04-17T07:05:51.649832Z",
     "iopub.status.busy": "2022-04-17T07:05:51.648992Z",
     "iopub.status.idle": "2022-04-17T07:05:51.943032Z",
     "shell.execute_reply": "2022-04-17T07:05:51.942400Z",
     "shell.execute_reply.started": "2022-04-17T07:03:56.659866Z"
    },
    "papermill": {
     "duration": 0.426205,
     "end_time": "2022-04-17T07:05:51.943159",
     "exception": false,
     "start_time": "2022-04-17T07:05:51.516954",
     "status": "completed"
    },
    "tags": []
   },
   "outputs": [
    {
     "data": {
      "text/plain": [
       "Text(0.5, 1.0, 'Total Minutes Asleep vs Total time in bed')"
      ]
     },
     "execution_count": 51,
     "metadata": {},
     "output_type": "execute_result"
    },
    {
     "data": {
      "image/png": "[encoded data removed]",
      "text/plain": [
       "<Figure size 432x288 with 1 Axes>"
      ]
     },
     "metadata": {
      "needs_background": "light"
     },
     "output_type": "display_data"
    }
   ],
   "source": [
    "sns.regplot(x= daily_activities_merged['TotalMinutesAsleep'], y= daily_activities_merged['TotalTimeInBed'])\n",
    "plt.title('Total Minutes Asleep vs Total time in bed')"
   ]
  },
  {
   "cell_type": "markdown",
   "id": "f42ea7b2",
   "metadata": {
    "papermill": {
     "duration": 0.106878,
     "end_time": "2022-04-17T07:05:52.156346",
     "exception": false,
     "start_time": "2022-04-17T07:05:52.049468",
     "status": "completed"
    },
    "tags": []
   },
   "source": [
    "### **Observation fromt the visulaization**\n",
    "* The users are more likely to be lightly active on fridays and saturdays.\n",
    "* The relation between the sleep duration and sedentary minutes is negative which means more the sedentary minutes of a user the less is the sleep duration.\n",
    "* The relationship between total steps and calories burned is positive which is expected as the more steps taken by user will result in more calories burned.\n",
    "* The total distance covered on sundays is very low as compared to the other days.\n",
    "* The relationship between the total minutes asleep and total time in bed is positive and for most part the time users spent asleep and the time spent by them in bed was very similar."
   ]
  },
  {
   "cell_type": "markdown",
   "id": "68e8c546",
   "metadata": {
    "papermill": {
     "duration": 0.10435,
     "end_time": "2022-04-17T07:05:52.368402",
     "exception": false,
     "start_time": "2022-04-17T07:05:52.264052",
     "status": "completed"
    },
    "tags": []
   },
   "source": [
    "### **Recommendations for the business**\n",
    "* The average steps per day is around 7500 which is less than the recommended steps per day by the CDC. It should be around more than 8000 per day. The bellabeat app could encourage the users to increase the step count by adding a share button in the app so that users could share their progress on social media which would create a competitive environment among the user's social media friends and could result in increse in steps count.\n",
    "* The average sleep duration of users is about 6.9 hrs, since the age group of the users are not given so considering the age group of users as between 18-60, the average sleep duration per day should be about 7-9 hrs per day as per the CDC. We observed in the visualizaiton that more the sedentary minutes less the sleep duration. Bellabeat app should introduce a point table scheme where users would be given point on the duration they are active which would decerese the sedentary minutes and would improve the sleep duration.\n",
    "* The total distance covered on sundays is very low as compared to other week days. Considering sunday as holiday in most parts of the world, the users may tend to be more relaxed on sundays. Bellabeat app should organize weekly contest on sundays and some rewards like discount in the memebership of the app should be given to some users who topped the distance covered and let them share the result on their social media handles, this would result in converting casual users into membership users and sharing these rewards on socail media would bring more traffic.\n",
    "* The average BMI is about 25.1 which is just a bit above the healthy range. According to the CDC, the healthy range for BMI is between (18.5-24.9). The users should be encouraged to enter correct weights and heights and update them regularly to calculate the BMI with more accuracy and the Bellabeat app should provide alerts on a periodic basis if their BMI is above or below this range.\n",
    "* The Bellabeat's 'Spring' product which can track the hydration level in users is very innovative and similar products to that are not extensively available in the market, the company should promote more for this product by providing it at a discount price to it's membership users and let them share their achievement in social media platforms if they keep themselves hydarated in right amount in a day and could create a streak based on that to show they are consistent towards it.\n",
    "\n",
    "\n"
   ]
  }
 ],
 "metadata": {
  "kernelspec": {
   "display_name": "Python 3",
   "language": "python",
   "name": "python3"
  },
  "language_info": {
   "codemirror_mode": {
    "name": "ipython",
    "version": 3
   },
   "file_extension": ".py",
   "mimetype": "text/x-python",
   "name": "python",
   "nbconvert_exporter": "python",
   "pygments_lexer": "ipython3",
   "version": "3.7.12"
  },
  "papermill": {
   "default_parameters": {},
   "duration": 36.524844,
   "end_time": "2022-04-17T07:05:53.385012",
   "environment_variables": {},
   "exception": null,
   "input_path": "__notebook__.ipynb",
   "output_path": "__notebook__.ipynb",
   "parameters": {},
   "start_time": "2022-04-17T07:05:16.860168",
   "version": "2.3.3"
  }
 },
 "nbformat": 4,
 "nbformat_minor": 5
}
